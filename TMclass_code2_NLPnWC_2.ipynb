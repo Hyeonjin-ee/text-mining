{
 "cells": [
  {
   "cell_type": "markdown",
   "metadata": {},
   "source": [
    "### 1. 자연어 처리 (NLP)\n",
    "    1.1. 한국어 형태소분석기 konlpy와 mecab설치\n",
    "    1.2. Mecab 사용자 사전 추가하기\n",
    "    1.3. 한국어 자연어 처리 수행\n",
    " \n",
    " \n",
    "### 2. 핵심어 분석  \n",
    "    2.1. 핵심어 단순빈도 분석\n",
    "    2.2. 단어 구름\n",
    "    2.3. 단어빈도-역문서빈도(TF-IDF) 분석"
   ]
  },
  {
   "cell_type": "markdown",
   "metadata": {},
   "source": [
    " "
   ]
  },
  {
   "cell_type": "markdown",
   "metadata": {},
   "source": [
    "# 1. 자연어 처리 (NLP)\n"
   ]
  },
  {
   "cell_type": "markdown",
   "metadata": {},
   "source": [
    "## 1-1. 형태소 분석기 mecab 설치하기(window 버전)"
   ]
  },
  {
   "cell_type": "markdown",
   "metadata": {},
   "source": [
    "### 4) jupyter notebook에서 다운받은 mecab 사용하기\n",
    "\n",
    "1. mecab_python-0.996_ko_0.9.2_msvc-cp37-cp37m-win_amd64.whl'를 site-package 폴더에 옮긴다."
   ]
  },
  {
   "cell_type": "code",
   "execution_count": 8,
   "metadata": {},
   "outputs": [
    {
     "data": {
      "text/plain": [
       "['C:\\\\Users\\\\realy\\\\anaconda3\\\\envs\\\\py37',\n",
       " 'C:\\\\Users\\\\realy\\\\anaconda3\\\\envs\\\\py37\\\\lib\\\\site-packages']"
      ]
     },
     "execution_count": 8,
     "metadata": {},
     "output_type": "execute_result"
    }
   ],
   "source": [
    "# 아래 명령어를 사용하여서 site-package 위치를 확인\n",
    "import site; site.getsitepackages() "
   ]
  },
  {
   "cell_type": "markdown",
   "metadata": {},
   "source": [
    "성공적으로 설치 되었다면 (전체적으로 커널 리셋하고 다시 실행해주기) "
   ]
  },
  {
   "cell_type": "code",
   "execution_count": 9,
   "metadata": {
    "scrolled": true
   },
   "outputs": [
    {
     "data": {
      "text/plain": [
       "[('형태소', 'NNG'),\n",
       " ('분석기', 'NNG'),\n",
       " ('가', 'JKS'),\n",
       " ('제대로', 'MAG'),\n",
       " ('설치', 'NNG'),\n",
       " ('되', 'XSV'),\n",
       " ('었', 'EP'),\n",
       " ('습니다', 'EF'),\n",
       " ('.', 'SF')]"
      ]
     },
     "execution_count": 9,
     "metadata": {},
     "output_type": "execute_result"
    }
   ],
   "source": [
    "from konlpy.tag import Mecab\n",
    "mecab=Mecab(dicpath='C:/mecab/mecab-ko-dic')\n",
    "mecab.pos('형태소 분석기가 제대로 설치 되었습니다.')"
   ]
  },
  {
   "cell_type": "code",
   "execution_count": 10,
   "metadata": {},
   "outputs": [
    {
     "data": {
      "text/plain": [
       "[('올리브영', 'NNP')]"
      ]
     },
     "execution_count": 10,
     "metadata": {},
     "output_type": "execute_result"
    }
   ],
   "source": [
    "mecab.pos('올리브영')"
   ]
  },
  {
   "cell_type": "code",
   "execution_count": 11,
   "metadata": {},
   "outputs": [
    {
     "data": {
      "text/plain": [
       "False"
      ]
     },
     "execution_count": 11,
     "metadata": {},
     "output_type": "execute_result"
    }
   ],
   "source": [
    "# 종성 여부 판단 \n",
    "\n",
    "def has_coda(word):\n",
    "    return (ord(word[-1]) -44032) % 28 == 0\n",
    "\n",
    "has_coda('올리브영')"
   ]
  },
  {
   "cell_type": "markdown",
   "metadata": {},
   "source": [
    "## 1-2. MeCab 사용자 사전 추가하기\n",
    "\n",
    "\n",
    "- 사용자 사전을 추가하는 이유 \n",
    "\n",
    "예를 들면 '올리브영'을 형태소 분석기에 넣으면 '올리브(NNG)','영(NNG)'으로 분석되어 나옵니다.  \n",
    "이것을 '올리브영(NNP)'로 분석되도록 사용자 자체로 사전을 추가할 수 있습니다.  \n",
    "\n",
    "- mecab의 폴더를 보면 크게 3개의 폴더로 이뤄져 있습니다.\n",
    "\n",
    "1. mecab-ko-dic : mecab의 단어 사전\n",
    "2. tools : 단어 사전에 단어를 추가시킨 후 컴파일 및 적용을 시켜주는 프로그램들 존재\n",
    "3. user-dic : 사용자가 추가적으로 추가한 단어에 대한 단어 사전\n",
    "\n",
    "단어 사전에 단어를 추가하는 프로세스는 크게 다음과 같이 진행이 됩니다.\n",
    "\n",
    "1. user-dic의 csv 파일에 형식에 맞게 추가하고 싶은 단어를 추가\n",
    "2. tools의 add-userdic-win.ps1라는 프로그램을 실행하여 컴파일 진행하여 추가 사항을 적용\n",
    "3. 2번의 과정에 의해서 user-dic에서 설정한 csv파일이 mecab-ko-dic에 새로 csv파일이 만들어져서 단어 사전에 해당 단어가 적용됨"
   ]
  },
  {
   "cell_type": "markdown",
   "metadata": {},
   "source": [
    "우선 user-dic에서 nnp.csvv 파일을 확인합니다. "
   ]
  },
  {
   "cell_type": "code",
   "execution_count": 12,
   "metadata": {},
   "outputs": [
    {
     "data": {
      "text/plain": [
       "['대우,,,,NNP,*,F,대우,*,*,*,*,*\\n',\n",
       " '구글,,,,NNP,*,T,구글,*,*,*,*,*\\n',\n",
       " '아디다스,,,,NNP,*,F,아디다스,*,*,*,*,*\\n',\n",
       " 'SK매직,,,,NNP,*,T,SK매직,*,*,*,*,*\\n',\n",
       " '청소기,,,,NNP,*,F,청소기,*,*,*,*,*\\n',\n",
       " '\\n',\n",
       " 'SK매직,,,,NNP,*,F,SK매직,*,*,*,*,*\\n']"
      ]
     },
     "execution_count": 12,
     "metadata": {},
     "output_type": "execute_result"
    }
   ],
   "source": [
    "with open(\"C:/mecab/user-dic/nnp.csv\", 'r', encoding='utf-8') as f: \n",
    "    file_data = f.readlines()\n",
    "file_data"
   ]
  },
  {
   "cell_type": "markdown",
   "metadata": {},
   "source": [
    "기본적으로 '대우'라는 단어와 '구글'이라는 단어에 대해서 단어가 있습니다.  \n",
    "\n",
    "이제 각자 원하는 단어를 추가해주세요. (예시: '올리브영')  \n",
    "\n",
    ",과 *의 형태는 변경하면 안됩니다. 그리고 T와 F는 종성의 여부 입니다. "
   ]
  },
  {
   "cell_type": "code",
   "execution_count": 13,
   "metadata": {},
   "outputs": [
    {
     "data": {
      "text/plain": [
       "['대우,,,,NNP,*,F,대우,*,*,*,*,*\\n',\n",
       " '구글,,,,NNP,*,T,구글,*,*,*,*,*\\n',\n",
       " '아디다스,,,,NNP,*,F,아디다스,*,*,*,*,*\\n',\n",
       " 'SK매직,,,,NNP,*,T,SK매직,*,*,*,*,*\\n',\n",
       " '청소기,,,,NNP,*,F,청소기,*,*,*,*,*\\n',\n",
       " '\\n',\n",
       " 'SK매직,,,,NNP,*,F,SK매직,*,*,*,*,*\\n',\n",
       " 'SK매직,,,,NNP,*,F,SK매직,*,*,*,*,*\\n']"
      ]
     },
     "execution_count": 13,
     "metadata": {},
     "output_type": "execute_result"
    }
   ],
   "source": [
    "file_data.append('SK매직,,,,NNP,*,F,SK매직,*,*,*,*,*\\n') ## 원하는 단어 추가 \n",
    "with open(\"C:/mecab/user-dic/nnp.csv\", 'w', encoding='utf-8') as f: \n",
    "    for line in file_data: \n",
    "        f.write(line)\n",
    "        \n",
    "f.close()\n",
    "\n",
    "file_data"
   ]
  },
  {
   "cell_type": "code",
   "execution_count": 14,
   "metadata": {},
   "outputs": [
    {
     "data": {
      "text/plain": [
       "['대우,1786,3545,3821,NNP,*,F,대우,*,*,*,*,*\\n',\n",
       " '구글,1786,3546,2953,NNP,*,T,구글,*,*,*,*,*\\n',\n",
       " '아디다스,1786,3545,2915,NNP,*,F,아디다스,*,*,*,*,*\\n',\n",
       " 'SK매직,1786,3546,0,NNP,*,T,SK매직,*,*,*,*,*\\n',\n",
       " '청소기,1786,3545,1,NNP,*,F,청소기,*,*,*,*,*\\n']"
      ]
     },
     "execution_count": 14,
     "metadata": {},
     "output_type": "execute_result"
    }
   ],
   "source": [
    "with open(\"C:/mecab/mecab-ko-dic/user-nnp2.csv\", 'r', encoding='utf-8') as f: \n",
    "    file_data = f.readlines()\n",
    "file_data"
   ]
  },
  {
   "cell_type": "markdown",
   "metadata": {},
   "source": [
    "추가로 단어의 우선순위가 낮아서 인식이 잘 안되는 경우가 있어서 우선순위 수정 하는 과정이 필요합니다."
   ]
  },
  {
   "cell_type": "code",
   "execution_count": 15,
   "metadata": {},
   "outputs": [
    {
     "data": {
      "text/plain": [
       "['대우,1786,3545,3821,NNP,*,F,대우,*,*,*,*,*\\n',\n",
       " '구글,1786,3546,2953,NNP,*,T,구글,*,*,*,*,*\\n',\n",
       " '아디다스,1786,3545,0,NNP,*,F,아디다스,*,*,*,*,*\\n',\n",
       " 'SK매직,1786,3546,0,NNP,*,T,SK매직,*,*,*,*,*\\n',\n",
       " '청소기,1786,3545,1,NNP,*,F,청소기,*,*,*,*,*\\n']"
      ]
     },
     "execution_count": 15,
     "metadata": {},
     "output_type": "execute_result"
    }
   ],
   "source": [
    "file_data[2]='아디다스,1786,3545,0,NNP,*,F,아디다스,*,*,*,*,*\\n'\n",
    "\n",
    "with open(\"C:/mecab/mecab-ko-dic/user-nnp.csv\", 'w', encoding='utf-8') as f: \n",
    "    for line in file_data: \n",
    "        f.write(line)\n",
    "with open(\"C:/mecab/mecab-ko-dic/user-nnp.csv\", 'r', encoding='utf-8') as f: \n",
    "    file_data = f.readlines()\n",
    "    \n",
    "file_data"
   ]
  },
  {
   "cell_type": "markdown",
   "metadata": {},
   "source": [
    "우선순위를 0으로 바꿔주었고 windows powerShell에서 앞서 다운한 compile-win.ps1을 실행시킵니다.  \n",
    "\n",
    "**.\\tools\\compile-win.ps1**\n"
   ]
  },
  {
   "cell_type": "code",
   "execution_count": 16,
   "metadata": {
    "scrolled": true
   },
   "outputs": [
    {
     "data": {
      "text/plain": [
       "[('청소기', 'NNG')]"
      ]
     },
     "execution_count": 16,
     "metadata": {},
     "output_type": "execute_result"
    }
   ],
   "source": [
    "# 완료가 되면 이렇게 확인 가능합니다. \n",
    "\n",
    "from konlpy.tag import Mecab\n",
    "\n",
    "mecab=Mecab(dicpath='C:/mecab/mecab-ko-dic')\n",
    "mecab.pos('청소기')"
   ]
  },
  {
   "cell_type": "code",
   "execution_count": 17,
   "metadata": {
    "scrolled": true
   },
   "outputs": [
    {
     "data": {
      "text/plain": [
       "[('SK', 'SL'), ('매직', 'NNG')]"
      ]
     },
     "execution_count": 17,
     "metadata": {},
     "output_type": "execute_result"
    }
   ],
   "source": [
    "# 완료가 되면 이렇게 확인 가능합니다. \n",
    "\n",
    "from konlpy.tag import Mecab\n",
    "\n",
    "mecab=Mecab(dicpath='C:/mecab/mecab-ko-dic')\n",
    "mecab.pos(\"SK매직\")"
   ]
  },
  {
   "cell_type": "markdown",
   "metadata": {},
   "source": [
    "## 1-3. 한국어 자연어 처리"
   ]
  },
  {
   "cell_type": "markdown",
   "metadata": {},
   "source": [
    "#### 1) 텍스트 수집한 데이터 파일 불러오기\n",
    "\n"
   ]
  },
  {
   "cell_type": "code",
   "execution_count": 18,
   "metadata": {
    "scrolled": true
   },
   "outputs": [],
   "source": [
    "# 필요한 데이터 처리를 위해 필요한 라이브러리를 탑재(import) 한다.\n",
    "\n",
    "import re\n",
    "import json\n",
    "import pandas as pd\n",
    "import xlsxwriter\n",
    "import numpy as np"
   ]
  },
  {
   "cell_type": "code",
   "execution_count": 19,
   "metadata": {},
   "outputs": [],
   "source": [
    "blog_df = pd.read_csv('data/skm_blog.csv', encoding='utf-8-sig') # 네이버 블로그 csv파일 불러오기"
   ]
  },
  {
   "cell_type": "code",
   "execution_count": 20,
   "metadata": {},
   "outputs": [],
   "source": [
    "blog_df = blog_df.sort_values(by='Post Date' ,ascending=True) # post Date를 기준으로 오름차순으로 정렬\n",
    "blog_df['Post Date'] = [str(dates).replace('.0','') for dates in blog_df['Post Date']] # 분석을 위해서 날짜의 형식을 변경함. "
   ]
  },
  {
   "cell_type": "code",
   "execution_count": 21,
   "metadata": {},
   "outputs": [
    {
     "data": {
      "text/html": [
       "<div>\n",
       "<style scoped>\n",
       "    .dataframe tbody tr th:only-of-type {\n",
       "        vertical-align: middle;\n",
       "    }\n",
       "\n",
       "    .dataframe tbody tr th {\n",
       "        vertical-align: top;\n",
       "    }\n",
       "\n",
       "    .dataframe thead th {\n",
       "        text-align: right;\n",
       "    }\n",
       "</style>\n",
       "<table border=\"1\" class=\"dataframe\">\n",
       "  <thead>\n",
       "    <tr style=\"text-align: right;\">\n",
       "      <th></th>\n",
       "      <th>Title</th>\n",
       "      <th>Link</th>\n",
       "      <th>Description</th>\n",
       "      <th>Blogger Name</th>\n",
       "      <th>Blogger Link</th>\n",
       "      <th>Post Date</th>\n",
       "      <th>Post Contents</th>\n",
       "    </tr>\n",
       "  </thead>\n",
       "  <tbody>\n",
       "    <tr>\n",
       "      <th>292</th>\n",
       "      <td>[차트뉴스] SK매직, 식기세척기 시장 만년 1위</td>\n",
       "      <td>https://blog.naver.com/danawaelec?Redirect=Log...</td>\n",
       "      <td>오죽하면 빨래건조기, 로봇 청소기와 함께 신의 물건인 ‘가전 3신기’로 꼽히겠는가....</td>\n",
       "      <td>다나와 쇼핑톡 - 비교하고 잘사자!</td>\n",
       "      <td>https://blog.naver.com/danawaelec</td>\n",
       "      <td>20161202</td>\n",
       "      <td>\\n\\n어쩌면 지금이야말로 그 어느 때보다 이불 밖은 위험한 시기다. 매서운 추위에...</td>\n",
       "    </tr>\n",
       "    <tr>\n",
       "      <th>521</th>\n",
       "      <td>동양매직에서 SK매직으로 이름이 바뀐 슈퍼 공기청정기...</td>\n",
       "      <td>https://blog.naver.com/xmsxmsdl89?Redirect=Log...</td>\n",
       "      <td>동양매직에서 SK매직으로 이름이 바뀐 슈퍼 공기청정기 렌탈해서 사용하고 있어요. 안...</td>\n",
       "      <td>튼튼이/개똥이 행복!!!</td>\n",
       "      <td>https://blog.naver.com/xmsxmsdl89</td>\n",
       "      <td>20161208</td>\n",
       "      <td>\\n\\n \\n \\n \\n \\n동양매직에서 SK매직으로 이름이 바뀐 슈퍼 공기청정기 ...</td>\n",
       "    </tr>\n",
       "    <tr>\n",
       "      <th>96</th>\n",
       "      <td>SK매직 무선청소기 VCL-D200 개봉기 및 사용기</td>\n",
       "      <td>https://blog.naver.com/rock115?Redirect=Log&amp;lo...</td>\n",
       "      <td>SK매직 무선청소기 VCL-D200 지금까지 유선청소기만 써 오다, 첫 무선청소기 ...</td>\n",
       "      <td>초코주의 창의적인 즐거움</td>\n",
       "      <td>https://blog.naver.com/rock115</td>\n",
       "      <td>20161220</td>\n",
       "      <td>\\n\\n\\n\\n\\n\\n\\n\\n\\n제품을 리뷰 \\n\\n\\n\\n\\n\\n\\n\\n\\n\\n\\...</td>\n",
       "    </tr>\n",
       "    <tr>\n",
       "      <th>534</th>\n",
       "      <td>내돈주고 사서쓰는 유선진공청소기 SK매직 VCL-613</td>\n",
       "      <td>https://blog.naver.com/sejungrha?Redirect=Log&amp;...</td>\n",
       "      <td>아기가 생긴 뒤로 내 머리카락 치우기에 여념이 없다가 세컨청소기를 사야겠다 마음먹고...</td>\n",
       "      <td>블리, 블리 주니어와 함께하는 일상♥</td>\n",
       "      <td>https://blog.naver.com/sejungrha</td>\n",
       "      <td>20161223</td>\n",
       "      <td>\\n\\n\\n\\n\\n\\n\\n\\n\\n상품평: 생활\\n\\n\\n\\n\\n\\n\\n\\n\\n\\n\\...</td>\n",
       "    </tr>\n",
       "    <tr>\n",
       "      <th>274</th>\n",
       "      <td>소형가전(무선청소기... ZB3233B /SK매직 EON-30AMD</td>\n",
       "      <td>https://blog.naver.com/vision1301?Redirect=Log...</td>\n",
       "      <td>다른 청소기를 사용안해봐서 비교는 어렵지만, 먼지 잘 빨리고 핸드링도 좋아요 ㅋㅋㅋ...</td>\n",
       "      <td>100님의 블로그</td>\n",
       "      <td>https://blog.naver.com/vision1301</td>\n",
       "      <td>20170121</td>\n",
       "      <td>\\n\\n \\n​\\n소형가전은 인터넷으로 구매하고 있어요\\n \\n청소기는 집이 좁은관...</td>\n",
       "    </tr>\n",
       "  </tbody>\n",
       "</table>\n",
       "</div>"
      ],
      "text/plain": [
       "                                     Title  \\\n",
       "292            [차트뉴스] SK매직, 식기세척기 시장 만년 1위   \n",
       "521      동양매직에서 SK매직으로 이름이 바뀐 슈퍼 공기청정기...    \n",
       "96           SK매직 무선청소기 VCL-D200 개봉기 및 사용기   \n",
       "534         내돈주고 사서쓰는 유선진공청소기 SK매직 VCL-613   \n",
       "274  소형가전(무선청소기... ZB3233B /SK매직 EON-30AMD   \n",
       "\n",
       "                                                  Link  \\\n",
       "292  https://blog.naver.com/danawaelec?Redirect=Log...   \n",
       "521  https://blog.naver.com/xmsxmsdl89?Redirect=Log...   \n",
       "96   https://blog.naver.com/rock115?Redirect=Log&lo...   \n",
       "534  https://blog.naver.com/sejungrha?Redirect=Log&...   \n",
       "274  https://blog.naver.com/vision1301?Redirect=Log...   \n",
       "\n",
       "                                           Description          Blogger Name  \\\n",
       "292  오죽하면 빨래건조기, 로봇 청소기와 함께 신의 물건인 ‘가전 3신기’로 꼽히겠는가....   다나와 쇼핑톡 - 비교하고 잘사자!   \n",
       "521  동양매직에서 SK매직으로 이름이 바뀐 슈퍼 공기청정기 렌탈해서 사용하고 있어요. 안...         튼튼이/개똥이 행복!!!   \n",
       "96   SK매직 무선청소기 VCL-D200 지금까지 유선청소기만 써 오다, 첫 무선청소기 ...         초코주의 창의적인 즐거움   \n",
       "534  아기가 생긴 뒤로 내 머리카락 치우기에 여념이 없다가 세컨청소기를 사야겠다 마음먹고...  블리, 블리 주니어와 함께하는 일상♥   \n",
       "274  다른 청소기를 사용안해봐서 비교는 어렵지만, 먼지 잘 빨리고 핸드링도 좋아요 ㅋㅋㅋ...             100님의 블로그   \n",
       "\n",
       "                          Blogger Link Post Date  \\\n",
       "292  https://blog.naver.com/danawaelec  20161202   \n",
       "521  https://blog.naver.com/xmsxmsdl89  20161208   \n",
       "96      https://blog.naver.com/rock115  20161220   \n",
       "534   https://blog.naver.com/sejungrha  20161223   \n",
       "274  https://blog.naver.com/vision1301  20170121   \n",
       "\n",
       "                                         Post Contents  \n",
       "292  \\n\\n어쩌면 지금이야말로 그 어느 때보다 이불 밖은 위험한 시기다. 매서운 추위에...  \n",
       "521  \\n\\n \\n \\n \\n \\n동양매직에서 SK매직으로 이름이 바뀐 슈퍼 공기청정기 ...  \n",
       "96   \\n\\n\\n\\n\\n\\n\\n\\n\\n제품을 리뷰 \\n\\n\\n\\n\\n\\n\\n\\n\\n\\n\\...  \n",
       "534  \\n\\n\\n\\n\\n\\n\\n\\n\\n상품평: 생활\\n\\n\\n\\n\\n\\n\\n\\n\\n\\n\\...  \n",
       "274  \\n\\n \\n​\\n소형가전은 인터넷으로 구매하고 있어요\\n \\n청소기는 집이 좁은관...  "
      ]
     },
     "execution_count": 21,
     "metadata": {},
     "output_type": "execute_result"
    }
   ],
   "source": [
    "blog_df.head()"
   ]
  },
  {
   "cell_type": "code",
   "execution_count": 22,
   "metadata": {},
   "outputs": [
    {
     "name": "stdout",
     "output_type": "stream",
     "text": [
      "[362] \n",
      "\n",
      "(559, 7)\n"
     ]
    }
   ],
   "source": [
    "# 문서에 'Post Date'에서 빈칸을 nan (빈데이터)를 찾아주고 삭제해주는 과정 = 나중에 분석에 오류를 없애기 위해서\n",
    "drop_index = blog_df['Post Date'][blog_df['Post Date']=='nan'].index\n",
    "d = [d for d in drop_index] \n",
    "print(d, '\\n')\n",
    "\n",
    "blog_df.drop(d, axis=0, inplace=True) # nan 데이터가 있는 행을 삭제해줌.\n",
    "print(blog_df.shape)"
   ]
  },
  {
   "cell_type": "code",
   "execution_count": 23,
   "metadata": {
    "scrolled": true
   },
   "outputs": [
    {
     "data": {
      "text/plain": [
       "292    [차트뉴스] SK매직, 식기세척기 시장 만년 1위 오죽하면 빨래건조기, 로봇 청소기...\n",
       "521    동양매직에서 SK매직으로 이름이 바뀐 슈퍼 공기청정기...  동양매직에서 SK매직으...\n",
       "96     SK매직 무선청소기 VCL-D200 개봉기 및 사용기 SK매직 무선청소기 VCL-D...\n",
       "534    내돈주고 사서쓰는 유선진공청소기 SK매직 VCL-613 아기가 생긴 뒤로 내 머리카...\n",
       "274    소형가전(무선청소기... ZB3233B /SK매직 EON-30AMD 다른 청소기를 ...\n",
       "                             ...                        \n",
       "103    삼성비스포크 렌탈 케어 SK매직 스페셜 렌탈 서비스 받은 후기! SK매직 렌탈서비스...\n",
       "164    SK 매직 공기청정기 제로웨이스트 친환경가전 제대로네 공기청정기네요 SK매직 그린컬...\n",
       "25     예쁜가전 SK매직 올클린 공기청정기로 집안공기까지 예쁘게~ 바로 예쁜가전 SK매직 ...\n",
       "21     우리집 미세먼지는 SK매직 올클린 공기청정기 Green 242 환경까지 고려한 친환...\n",
       "19     SK매직 공기청정기 Green 242 필수가전 인것 같아요 인 SK매직 올클린 공기...\n",
       "Length: 559, dtype: object"
      ]
     },
     "execution_count": 23,
     "metadata": {},
     "output_type": "execute_result"
    }
   ],
   "source": [
    "# 필요한 부분만 편집해서 가져오기. \n",
    "# 블로그 데이터 파일에서 블로그 제목인 'Title'과 블로그 내용인 'Description' 및 게시일인 'Post Date'에 해당하는 부분만 가져와 저장.\n",
    "tm_post = blog_df.get('Title') + \" \" + blog_df.get('Description')\n",
    "tm_post_date = blog_df.get('Post Date')\n",
    "\n",
    "tm_post"
   ]
  },
  {
   "cell_type": "code",
   "execution_count": null,
   "metadata": {},
   "outputs": [
    {
     "data": {
      "text/plain": [
       "0      가스렌지 접지가 잘 되지 않아 1년에 한번씩은 수리를 받았어요작년에도 3만원 넘게 ...\n",
       "1      직접 기존 고장난 제품을 제거하고 호스 끝을 가위로 잘라내고.. SK 매직 제품으로...\n",
       "2      기존 스텐레스쿡탑 썼는데 아랫부분이 부식되서 녹가루 떨어져서 폭풍검색후 린나이. s...\n",
       "3      여기저기 후기를 찾아보고 일주일 고민 끝에 주문했어요. 갑자기 사용하던 가스레인지가...\n",
       "4      가스렌지 옛날거라 스마트센서도 없고 가스손잡이도 한참 잡고있어야 갑자기 불들어오고 ...\n",
       "                             ...                        \n",
       "995                              조아요 조아요 조아요 조아요 조아요 조아요\n",
       "996    이거 좋네요. 기존 한샘꺼 썼는데 사이즈도 딱 맞고 불도 잘 켜지고 약불모드 기발한...\n",
       "997      딱 맞았습니다. 감사합니다. 번창하세요.. 딱 맞았습니다. 감사합니다. 번창하세요..\n",
       "998    가성비 좋고 배송기사도 친절하게 설치해 주시네요.. 가성비 좋고 배송기사도 친절하게...\n",
       "999    배송도 빠르고 설치 가사님 도친절 하셨습니다 배송도 빠르고 설치 가사님 도친절 하셨습니다\n",
       "Length: 1000, dtype: object"
      ]
     },
     "execution_count": 20,
     "metadata": {},
     "output_type": "execute_result"
    }
   ],
   "source": [
    "# 필요한 부분만 편집해서 가져오기. \n",
    "# 블로그 데이터 파일에서 블로그 제목인 'title'과 블로그 내용인 'review' 및 게시일인 'date'에 해당하는 부분만 가져와 저장.\n",
    "tm_post = shop_df.get('title') + \" \" + shop_df.get('review')\n",
    "tm_post_date = shop_df.get('date')\n",
    "\n",
    "tm_post"
   ]
  },
  {
   "cell_type": "code",
   "execution_count": 24,
   "metadata": {},
   "outputs": [
    {
     "data": {
      "text/plain": [
       "292    [차트뉴스] SK매직, 식기세척기 시장 만년 1위 오죽하면 빨래건조기, 로봇 청소기...\n",
       "521    동양매직에서 SK매직으로 이름이 바뀐 슈퍼 공기청정기...  동양매직에서 SK매직으...\n",
       "96     SK매직 무선청소기 VCL-D200 개봉기 및 사용기 SK매직 무선청소기 VCL-D...\n",
       "534    내돈주고 사서쓰는 유선진공청소기 SK매직 VCL-613 아기가 생긴 뒤로 내 머리카...\n",
       "274    소형가전(무선청소기... ZB3233B /SK매직 EON-30AMD 다른 청소기를 ...\n",
       "dtype: object"
      ]
     },
     "execution_count": 24,
     "metadata": {},
     "output_type": "execute_result"
    }
   ],
   "source": [
    "tm_post.head()  # 첫 5행 보여주기"
   ]
  },
  {
   "cell_type": "code",
   "execution_count": 25,
   "metadata": {
    "tags": []
   },
   "outputs": [
    {
     "data": {
      "text/plain": [
       "103    삼성비스포크 렌탈 케어 SK매직 스페셜 렌탈 서비스 받은 후기! SK매직 렌탈서비스...\n",
       "164    SK 매직 공기청정기 제로웨이스트 친환경가전 제대로네 공기청정기네요 SK매직 그린컬...\n",
       "25     예쁜가전 SK매직 올클린 공기청정기로 집안공기까지 예쁘게~ 바로 예쁜가전 SK매직 ...\n",
       "21     우리집 미세먼지는 SK매직 올클린 공기청정기 Green 242 환경까지 고려한 친환...\n",
       "19     SK매직 공기청정기 Green 242 필수가전 인것 같아요 인 SK매직 올클린 공기...\n",
       "dtype: object"
      ]
     },
     "execution_count": 25,
     "metadata": {},
     "output_type": "execute_result"
    }
   ],
   "source": [
    "tm_post.tail()  # 마지막 5행 보여주기"
   ]
  },
  {
   "cell_type": "code",
   "execution_count": 26,
   "metadata": {},
   "outputs": [
    {
     "data": {
      "text/plain": [
       "103    20211030\n",
       "164    20211101\n",
       "25     20211101\n",
       "21     20211101\n",
       "19     20211101\n",
       "Name: Post Date, dtype: object"
      ]
     },
     "execution_count": 26,
     "metadata": {},
     "output_type": "execute_result"
    }
   ],
   "source": [
    "tm_post_date.tail()  # 게시날짜 마지막 5행 보여주기"
   ]
  },
  {
   "cell_type": "code",
   "execution_count": 27,
   "metadata": {},
   "outputs": [
    {
     "data": {
      "text/plain": [
       "'20211101'"
      ]
     },
     "execution_count": 27,
     "metadata": {},
     "output_type": "execute_result"
    }
   ],
   "source": [
    "tm_post_date.max()   # 최대 날짜 (가장 최근 데이터)"
   ]
  },
  {
   "cell_type": "code",
   "execution_count": 28,
   "metadata": {},
   "outputs": [
    {
     "data": {
      "text/plain": [
       "'20161202'"
      ]
     },
     "execution_count": 28,
     "metadata": {},
     "output_type": "execute_result"
    }
   ],
   "source": [
    "tm_post_date.min()  # 최소 날짜 (가장 오래된 데이터)"
   ]
  },
  {
   "cell_type": "code",
   "execution_count": 29,
   "metadata": {
    "tags": []
   },
   "outputs": [
    {
     "name": "stdout",
     "output_type": "stream",
     "text": [
      "False\n",
      "0\n"
     ]
    }
   ],
   "source": [
    "# tm_post 전처리\n",
    "\n",
    "print(tm_post.isnull().values.any()) # 빈 행이 있는지 확인하기 ( 뒤에 에러가 날 수 있음 ) \n",
    "print(tm_post.isnull().sum()) # null 값이 총 몇개가 있는지 확인 \n",
    "\n",
    "tm_post = tm_post.dropna(how = 'any') # Null 값이 존재하는 행을 제거"
   ]
  },
  {
   "cell_type": "code",
   "execution_count": 30,
   "metadata": {},
   "outputs": [
    {
     "data": {
      "text/plain": [
       "559"
      ]
     },
     "execution_count": 30,
     "metadata": {},
     "output_type": "execute_result"
    }
   ],
   "source": [
    "len(tm_post)"
   ]
  },
  {
   "cell_type": "code",
   "execution_count": 31,
   "metadata": {},
   "outputs": [],
   "source": [
    "import re\n",
    "\n",
    "def cleanText(datas): # 단어 전처리\n",
    "    data1 = re.sub('[^A-Za-z0-9가-힣;,.?!]', ' ', datas)\n",
    "    data1 = data1.replace(' 청소기', ' 청소기 ') #검색어 띄어쓰기 붙여주기\n",
    "    data1 = data1.replace('청소기 ', ' 청소기 ') #검색어 띄어쓰기 붙여주기\n",
    "    data1 = data1.replace('  ', ' ')\n",
    "    #data1 = data1.replace('렌지', '레인지')\n",
    "    data2 = data1.split()\n",
    "    return data1"
   ]
  },
  {
   "cell_type": "code",
   "execution_count": 32,
   "metadata": {
    "tags": []
   },
   "outputs": [
    {
     "data": {
      "text/plain": [
       "[' 차트뉴스 SK매직, 식기세척기 시장 만년 1위 오죽하면 빨래건조기, 로봇 청소기 와 함께 신의 물건인 가전 3신기 로 꼽히겠는가. 물론... 나누면 SK매직이 절반 이상의 점유율을 차지하며 1위 자리를 굳게 지키고 있음을 확인할 수 있다. SK매직은... ',\n",
       " '동양매직에서 SK매직으로 이름이 바뀐 슈퍼 공기청정기... 동양매직에서 SK매직으로 이름이 바뀐 슈퍼 공기청정기 렌탈해서 사용하고 있어요. 안녕하세요.... 저희는 침구 청소기 받아서 사용하는데요. 엄청 좋더군요. 침구 청소 한번 하고 나면 청소기 에 먼지가 들어가... ',\n",
       " 'SK매직 무선 청소기 VCL D200 개봉기 및 사용기 SK매직 무선 청소기 VCL D200 지금까지 유선청소기만 써 오다, 첫 무선 청소기 구입! 알아보고 알아보다 가성비 따져서 VCL D200을 구매하였습니다. 첫 무선 청소기 구입 기념으로 정성가득 포스팅을 해봅니다. 무선... ']"
      ]
     },
     "execution_count": 32,
     "metadata": {},
     "output_type": "execute_result"
    }
   ],
   "source": [
    "tm_posts = []\n",
    "for posts in tm_post:\n",
    "    post = cleanText(posts)\n",
    "    post1 = ' '.join(post)\n",
    "    tm_posts.append(post)\n",
    "    \n",
    "tm_posts[:3]"
   ]
  },
  {
   "cell_type": "markdown",
   "metadata": {},
   "source": [
    "### 3) 형태소분석 후 불용어 제거하고 명사 추출하기\n",
    "\n"
   ]
  },
  {
   "cell_type": "code",
   "execution_count": 33,
   "metadata": {},
   "outputs": [],
   "source": [
    "# 형태소 분석기 Mecab 불러오기\n",
    "\n",
    "from konlpy.tag import Mecab\n",
    "\n",
    "tagger = Mecab(dicpath='C:/mecab/mecab-ko-dic')"
   ]
  },
  {
   "cell_type": "markdown",
   "metadata": {},
   "source": [
    "#### 불용어(Stopwords) 사전 만들기\n"
   ]
  },
  {
   "cell_type": "code",
   "execution_count": 34,
   "metadata": {
    "scrolled": true,
    "tags": []
   },
   "outputs": [
    {
     "name": "stdout",
     "output_type": "stream",
     "text": [
      "['게', '저', '쪽', '음', '은', '는', '이', '가', '배', '거', '츠', '의', '앞', '강', '글', '애', '미', '번', '것', '등', '더', '를', '좀', '즉', '인', '옹', '때', '만', '원', '이때', '개', '일', '기', '시', '트', '드', '기', '탭', '위', '업', '중', '수', '']\n"
     ]
    }
   ],
   "source": [
    "# 블로그\n",
    "tm_stop_words = \"게 저 쪽 음 은 는 이 가 배 거 츠 의 앞 강 글 애 미 번 것 등 더 를 좀 즉 인 옹 때 만 원 이때 개 일 기 시 트 드 기 탭 위 업 중 수 \" \n",
    "tm_stop_words = tm_stop_words.split(' ')\n",
    "print(tm_stop_words)"
   ]
  },
  {
   "cell_type": "markdown",
   "metadata": {},
   "source": [
    "#### 불용어를 제외하여 형태소 분석 수행\n",
    "\n",
    "mecab을 이용하여 한글 텍스트에 대해서 불용어를 제외한 형태소 분석을 수행하고, 그중에서 명사만 추출한다. "
   ]
  },
  {
   "cell_type": "markdown",
   "metadata": {},
   "source": [
    "- 복합어(예 \"가스레인지\")를 형태소로 추가하려면 앞의 mecab 사용자 사전에 추가\n",
    "\n"
   ]
  },
  {
   "cell_type": "code",
   "execution_count": 35,
   "metadata": {
    "scrolled": true,
    "tags": []
   },
   "outputs": [
    {
     "data": {
      "text/plain": [
       "[('차트', 'NNG'),\n",
       " ('뉴스', 'NNG'),\n",
       " ('SK', 'SL'),\n",
       " ('매직', 'NNG'),\n",
       " (',', 'SC'),\n",
       " ('식기세척기', 'NNG'),\n",
       " ('시장', 'NNG'),\n",
       " ('만년', 'NNG'),\n",
       " ('1', 'SN'),\n",
       " ('위', 'NNBC')]"
      ]
     },
     "execution_count": 35,
     "metadata": {},
     "output_type": "execute_result"
    }
   ],
   "source": [
    "# 불용어를 제외한 텍스트의 형태소 분석 수행\n",
    "\n",
    "words = []\n",
    "for post in tm_posts:\n",
    "    words.extend(tagger.pos(post))\n",
    "    \n",
    "words[0:10]"
   ]
  },
  {
   "cell_type": "code",
   "execution_count": 36,
   "metadata": {
    "scrolled": true
   },
   "outputs": [
    {
     "data": {
      "text/plain": [
       "['차트', '뉴스', '매직', '식기세척기', '시장', '만년', '빨래', '건조기', '로봇', '청소기']"
      ]
     },
     "execution_count": 36,
     "metadata": {},
     "output_type": "execute_result"
    }
   ],
   "source": [
    "tm_nouns = []   # 명사 추출하기\n",
    "for post in tm_posts:\n",
    "        if type(post) == str:\n",
    "            for noun in tagger.nouns(post):\n",
    "                if noun not in tm_stop_words:\n",
    "                    tm_nouns.append(noun)\n",
    "            \n",
    "tm_nouns[0:10]"
   ]
  },
  {
   "cell_type": "markdown",
   "metadata": {},
   "source": [
    "# 2. 핵심어 분석 (Keyword Analysis)\n"
   ]
  },
  {
   "cell_type": "markdown",
   "metadata": {},
   "source": [
    "### 2.1. 핵심어 단순빈도 분석\n"
   ]
  },
  {
   "cell_type": "markdown",
   "metadata": {},
   "source": [
    "### 1) 명사 추출하고 단순빈도 분석하기\n",
    "갯수를 파악하기 위해서 Counter 라이브러리를 import한다. 그리고 전처리된 텍스트로부터 명사의 갯수를 파악하기 위해 Counter(nouns) 결과를 저장한 후, most_common(30)함수를 이용하여 상위 30개의 명사에 대해서만 출력하여 결과를 확인한다."
   ]
  },
  {
   "cell_type": "code",
   "execution_count": 37,
   "metadata": {},
   "outputs": [
    {
     "name": "stdout",
     "output_type": "stream",
     "text": [
      "[('매직', 1295), ('청소기', 1012), ('물걸레', 367), ('공기', 316), ('식기세척기', 314), ('청정기', 294), ('무선', 253), ('사용', 204), ('후기', 148), ('청소', 133), ('클린', 129), ('스핀', 127), ('로봇', 122), ('정수기', 122), ('필터', 116), ('제품', 111), ('렌탈', 109), ('먼지', 103), ('추천', 91), ('건조기', 89), ('집', 89), ('구매', 79), ('케어', 77), ('인용', 64), ('듀얼', 63), ('물', 62), ('설치', 61), ('가격', 56), ('가능', 55), ('트리플', 53)]\n"
     ]
    }
   ],
   "source": [
    "from collections import Counter  # 상위 30개 명사 추출\n",
    "num_top_nouns = 30\n",
    "tm_nouns_counter = Counter(tm_nouns)\n",
    "tm_top_nouns = tm_nouns_counter.most_common(num_top_nouns)\n",
    "\n",
    "print(tm_top_nouns)"
   ]
  },
  {
   "cell_type": "code",
   "execution_count": 25,
   "metadata": {},
   "outputs": [],
   "source": [
    "# # 유사어를 통페합한 후 명사 빈도수를 다시 계산한다. 통폐합할 유사어가 없는 경우 주석처리하고 이 과정 생략.\n",
    "# # 이미 단어 전처리 과정에서 '렌지'를 '레인지'로 치환하였기 때문에 이 과정 생략 가능\n",
    "\n",
    "# tm_nouns_counter = Counter(tm_nouns)\n",
    "\n",
    "# tm_nouns_counter['렌지'] +=tm_nouns_counter['레인지'] # '렌지'를 '레인지'로 간주하여 빈도수를 더해주고 \n",
    "# tm_nouns_counter.pop('렌지') # '렌지'는 단어 리스트에 제외함.\n",
    "\n",
    "# tm_nouns_counter['매직'] +=tm_nouns_counter['SK매직'] # '매직'을 'SK매직'으로 간주하여 빈도수를 더해주고 \n",
    "# tm_nouns_counter.pop('매직') # '매직'은 단어 리스트에 제외함.\n",
    "\n",
    "# num_top_nouns = 30\n",
    "# tm_top_nouns = tm_nouns_counter.most_common(num_top_nouns)\n",
    "\n",
    "# print(tm_top_nouns)"
   ]
  },
  {
   "cell_type": "code",
   "execution_count": 38,
   "metadata": {},
   "outputs": [
    {
     "name": "stdout",
     "output_type": "stream",
     "text": [
      "{'매직': 1295, '청소기': 1012, '물걸레': 367, '공기': 316, '식기세척기': 314, '청정기': 294, '무선': 253, '사용': 204, '후기': 148, '청소': 133, '클린': 129, '스핀': 127, '로봇': 122, '정수기': 122, '필터': 116, '제품': 111, '렌탈': 109, '먼지': 103, '추천': 91, '건조기': 89, '집': 89, '구매': 79, '케어': 77, '인용': 64, '듀얼': 63, '물': 62, '설치': 61, '가격': 56, '가능': 55, '트리플': 53}\n"
     ]
    }
   ],
   "source": [
    "tm_top_nouns = dict(tm_top_nouns) # 사전(dictionary) 형태로 변환\n",
    "\n",
    "print(tm_top_nouns)"
   ]
  },
  {
   "cell_type": "markdown",
   "metadata": {},
   "source": [
    "### 2) 동사 및 형용사의 단순빈도 분석"
   ]
  },
  {
   "cell_type": "markdown",
   "metadata": {},
   "source": [
    "#### 형태소 분석을 한 결과에서 동사(VV)에 해당하는 형태에 '다'를 추가하여 출력한다."
   ]
  },
  {
   "cell_type": "code",
   "execution_count": 39,
   "metadata": {},
   "outputs": [
    {
     "name": "stdout",
     "output_type": "stream",
     "text": [
      "['하다', '꼽히다', '나누다', '굳다', '지키다', '있다', '하다', '받다', '하다', '알아보다', '알아보다', '주다', '사다', '쓰다', '치우다', '사다', '마음먹다', '빨리다', '다니다', '돌리다', '찾다', '키우다', '쓰다', '하다', '있다', '있다', '살펴보다', '살펴보다', '뒤돌아서다', '밟히다']\n"
     ]
    }
   ],
   "source": [
    "verbs=[]\n",
    "for word in words:\n",
    "    if word[1]=='VV':\n",
    "        verbs.append(word[0]+'다')\n",
    "        \n",
    "print(verbs[0:30])"
   ]
  },
  {
   "cell_type": "markdown",
   "metadata": {},
   "source": [
    "형태소 분석을 한 결과에서 형용사(VA)에 해당하는 형태에 '다'를 추가하여 출력한 결과이다."
   ]
  },
  {
   "cell_type": "code",
   "execution_count": 40,
   "metadata": {},
   "outputs": [
    {
     "name": "stdout",
     "output_type": "stream",
     "text": [
      "['좋다', '없다', '어렵다', '좋다', '편하다', '빠르다', '쉽다', '있다', '좋다', '빠르다', '빠르다', '빠르다', '좋다', '시끄럽다', '많다', '높다', '좋다', '좋다', '있다', '있다', '같다', '좋다', '같다', '많다', '없다', '많다', '없다', '없다', '빠르다', '많다']\n"
     ]
    }
   ],
   "source": [
    "adjective=[]\n",
    "for word in words:\n",
    "    if word[1]=='VA':\n",
    "        adjective.append(word[0]+'다')\n",
    "        \n",
    "print(adjective[0:30])"
   ]
  },
  {
   "cell_type": "code",
   "execution_count": 41,
   "metadata": {
    "scrolled": true
   },
   "outputs": [
    {
     "data": {
      "text/plain": [
       "[('좋다', 103),\n",
       " ('있다', 64),\n",
       " ('없다', 61),\n",
       " ('같다', 56),\n",
       " ('많다', 33),\n",
       " ('쉽다', 20),\n",
       " ('가볍다', 16),\n",
       " ('편하다', 12),\n",
       " ('괜찮다', 12),\n",
       " ('빠르다', 10),\n",
       " ('높다', 10),\n",
       " ('싫다', 7),\n",
       " ('작다', 6),\n",
       " ('힘들다', 6),\n",
       " ('예쁘다', 5),\n",
       " ('귀찮다', 5),\n",
       " ('크다', 5),\n",
       " ('싸다', 4),\n",
       " ('그렇다', 4),\n",
       " ('맑다', 4),\n",
       " ('어렵다', 3),\n",
       " ('손쉽다', 3),\n",
       " ('적다', 3),\n",
       " ('넓다', 3),\n",
       " ('번거롭다', 3),\n",
       " ('고르다', 3),\n",
       " ('무겁다', 3),\n",
       " ('부드럽다', 3),\n",
       " ('문제없다', 2),\n",
       " ('이렇다', 2)]"
      ]
     },
     "execution_count": 41,
     "metadata": {},
     "output_type": "execute_result"
    }
   ],
   "source": [
    " # 상위 30개 형용사 추출\n",
    "num_top_adj = 30\n",
    "tm_adj_counter = Counter(adjective)\n",
    "tm_top_adj = tm_adj_counter.most_common(num_top_adj)\n",
    "tm_top_adj"
   ]
  },
  {
   "cell_type": "code",
   "execution_count": 42,
   "metadata": {},
   "outputs": [],
   "source": [
    "tm_top_adj = dict(tm_top_adj)"
   ]
  },
  {
   "cell_type": "markdown",
   "metadata": {},
   "source": [
    "## 2-2. 단어 구름(Word Cloud)으로 표시하기\n",
    "\n",
    "단어구름으로 표시하기 위해서 matplotlib 라이브러리와 WordCloud 라이브러리를 import 한다. WordCloud 라이브러리는 pip install wordcloud 명령어를 통해서 설치해야 한다."
   ]
  },
  {
   "cell_type": "code",
   "execution_count": 31,
   "metadata": {},
   "outputs": [
    {
     "name": "stdout",
     "output_type": "stream",
     "text": [
      "Requirement already satisfied: wordcloud in c:\\users\\realy\\anaconda3\\envs\\py37\\lib\\site-packages (1.8.1)\n",
      "Requirement already satisfied: numpy>=1.6.1 in c:\\users\\realy\\anaconda3\\envs\\py37\\lib\\site-packages (from wordcloud) (1.21.2)\n",
      "Requirement already satisfied: matplotlib in c:\\users\\realy\\anaconda3\\envs\\py37\\lib\\site-packages (from wordcloud) (3.4.3)\n",
      "Requirement already satisfied: pillow in c:\\users\\realy\\anaconda3\\envs\\py37\\lib\\site-packages (from wordcloud) (8.4.0)\n",
      "Requirement already satisfied: kiwisolver>=1.0.1 in c:\\users\\realy\\anaconda3\\envs\\py37\\lib\\site-packages (from matplotlib->wordcloud) (1.3.2)\n",
      "Requirement already satisfied: python-dateutil>=2.7 in c:\\users\\realy\\anaconda3\\envs\\py37\\lib\\site-packages (from matplotlib->wordcloud) (2.8.2)\n",
      "Requirement already satisfied: pyparsing>=2.2.1 in c:\\users\\realy\\anaconda3\\envs\\py37\\lib\\site-packages (from matplotlib->wordcloud) (2.4.7)\n",
      "Requirement already satisfied: cycler>=0.10 in c:\\users\\realy\\anaconda3\\envs\\py37\\lib\\site-packages (from matplotlib->wordcloud) (0.10.0)\n",
      "Requirement already satisfied: six in c:\\users\\realy\\anaconda3\\envs\\py37\\lib\\site-packages (from cycler>=0.10->matplotlib->wordcloud) (1.16.0)\n"
     ]
    },
    {
     "name": "stderr",
     "output_type": "stream",
     "text": [
      "WARNING: You are using pip version 21.3; however, version 21.3.1 is available.\n",
      "You should consider upgrading via the 'C:\\Users\\realy\\anaconda3\\envs\\py37\\python.exe -m pip install --upgrade pip' command.\n"
     ]
    }
   ],
   "source": [
    "!pip install wordcloud   "
   ]
  },
  {
   "cell_type": "markdown",
   "metadata": {},
   "source": [
    "### 1) 명사 핵심어를 단어구름으로 표시하기"
   ]
  },
  {
   "cell_type": "code",
   "execution_count": 32,
   "metadata": {},
   "outputs": [
    {
     "data": {
      "text/plain": [
       "<wordcloud.wordcloud.WordCloud at 0x1dbfd6c9ec8>"
      ]
     },
     "execution_count": 32,
     "metadata": {},
     "output_type": "execute_result"
    }
   ],
   "source": [
    "# 나눔바른고딕 서체 파일(NanumBarunGothic.ttf) 같은 폴더에 미리 다운 받아 놓을 것\n",
    "\n",
    "from wordcloud import WordCloud\n",
    "tm_wc = WordCloud(background_color=\"white\", font_path='NanumBarunGothic.ttf')  \n",
    "tm_wc.generate_from_frequencies(tm_top_nouns)"
   ]
  },
  {
   "cell_type": "markdown",
   "metadata": {},
   "source": [
    "워드 클라우드를 생성하였으면 화면에 워드클라우드를 시각화하기 위해서 matplotlib를 이용한다."
   ]
  },
  {
   "cell_type": "code",
   "execution_count": 33,
   "metadata": {},
   "outputs": [
    {
     "data": {
      "text/plain": [
       "<matplotlib.image.AxesImage at 0x1dbfe5409c8>"
      ]
     },
     "execution_count": 33,
     "metadata": {},
     "output_type": "execute_result"
    },
    {
     "data": {
      "image/png": "[encoded data removed]",
      "text/plain": [
       "<Figure size 720x720 with 1 Axes>"
      ]
     },
     "metadata": {
      "needs_background": "light"
     },
     "output_type": "display_data"
    }
   ],
   "source": [
    "import matplotlib.pyplot as plt\n",
    "figure = plt.figure()\n",
    "figure.set_size_inches(10, 10)\n",
    "ax = figure.add_subplot(1, 1, 1)\n",
    "ax.axis(\"off\")\n",
    "ax.imshow(tm_wc)"
   ]
  },
  {
   "cell_type": "markdown",
   "metadata": {},
   "source": [
    "### 2) 형용사 핵심어를 단어 구름으로 표시하기"
   ]
  },
  {
   "cell_type": "code",
   "execution_count": 34,
   "metadata": {},
   "outputs": [
    {
     "data": {
      "text/plain": [
       "<wordcloud.wordcloud.WordCloud at 0x1db86f98148>"
      ]
     },
     "execution_count": 34,
     "metadata": {},
     "output_type": "execute_result"
    }
   ],
   "source": [
    "from wordcloud import WordCloud\n",
    "tm_wc = WordCloud(background_color=\"white\", font_path='NanumBarunGothic.ttf')\n",
    "tm_wc.generate_from_frequencies(tm_top_adj)"
   ]
  },
  {
   "cell_type": "code",
   "execution_count": 35,
   "metadata": {},
   "outputs": [
    {
     "data": {
      "text/plain": [
       "<matplotlib.image.AxesImage at 0x1db86fa3748>"
      ]
     },
     "execution_count": 35,
     "metadata": {},
     "output_type": "execute_result"
    },
    {
     "data": {
      "image/png": "[encoded data removed]",
      "text/plain": [
       "<Figure size 720x720 with 1 Axes>"
      ]
     },
     "metadata": {
      "needs_background": "light"
     },
     "output_type": "display_data"
    }
   ],
   "source": [
    "import matplotlib.pyplot as plt\n",
    "figure = plt.figure()\n",
    "figure.set_size_inches(10, 10)\n",
    "ax = figure.add_subplot(1, 1, 1)\n",
    "ax.axis(\"off\")\n",
    "ax.imshow(tm_wc)"
   ]
  },
  {
   "cell_type": "markdown",
   "metadata": {},
   "source": [
    "### 3) 단어 구름 바탕 그림 변경하기"
   ]
  },
  {
   "cell_type": "code",
   "execution_count": 36,
   "metadata": {},
   "outputs": [
    {
     "data": {
      "image/png": "[encoded data removed]",
      "text/plain": [
       "<Figure size 576x576 with 1 Axes>"
      ]
     },
     "metadata": {
      "needs_background": "light"
     },
     "output_type": "display_data"
    }
   ],
   "source": [
    "# 하트 그림파일 (heart.png) 같은 폴더에 미리 다운받아 놓을 것. \n",
    "\n",
    "from PIL import Image\n",
    "import numpy as np\n",
    "cloud_mask=np.array(Image.open('heart.png')) \n",
    "plt.figure(figsize=(8,8))\n",
    "plt.imshow(cloud_mask,interpolation=\"bilinear\")\n",
    "plt.show()"
   ]
  },
  {
   "cell_type": "code",
   "execution_count": 37,
   "metadata": {},
   "outputs": [
    {
     "data": {
      "image/png": "[encoded data removed]",
      "text/plain": [
       "<Figure size 720x720 with 1 Axes>"
      ]
     },
     "metadata": {
      "needs_background": "light"
     },
     "output_type": "display_data"
    }
   ],
   "source": [
    "tm_wc = WordCloud(background_color=\"white\", mask=cloud_mask, font_path='NanumBarunGothic.ttf')\n",
    "tm_wc.generate_from_frequencies(tm_top_nouns)\n",
    "plt.figure(figsize=(10,10))\n",
    "plt.imshow(tm_wc,interpolation=\"bilinear\")\n",
    "plt.axis(\"on\")\n",
    "plt.show()"
   ]
  },
  {
   "cell_type": "markdown",
   "metadata": {},
   "source": [
    "## 2-3. 단어빈도-역문서빈도(TF-IDF) 분석\n"
   ]
  },
  {
   "cell_type": "markdown",
   "metadata": {},
   "source": [
    "블로그 내용에서 빈도가 높은 단어에 대해서 TF-IDF 값을 구하기 위해서 TfidfVectorizer 라이브러리를 import 한다. 그리고 추출한 50개의 명사가 블로그 내용에서 어떤 TF-IDF 값을 가지는지 배열 형태로 출력한다."
   ]
  },
  {
   "cell_type": "code",
   "execution_count": 43,
   "metadata": {},
   "outputs": [
    {
     "name": "stdout",
     "output_type": "stream",
     "text": [
      "30\n"
     ]
    }
   ],
   "source": [
    "tm_top_nouns = list(tm_top_nouns.keys())\n",
    "print(len(tm_top_nouns))"
   ]
  },
  {
   "cell_type": "code",
   "execution_count": 39,
   "metadata": {},
   "outputs": [
    {
     "name": "stderr",
     "output_type": "stream",
     "text": [
      "WARNING: You are using pip version 21.3; however, version 21.3.1 is available.\n",
      "You should consider upgrading via the 'C:\\Users\\realy\\anaconda3\\envs\\py37\\python.exe -m pip install --upgrade pip' command.\n"
     ]
    },
    {
     "name": "stdout",
     "output_type": "stream",
     "text": [
      "Requirement already satisfied: sklearn in c:\\users\\realy\\anaconda3\\envs\\py37\\lib\\site-packages (0.0)\n",
      "Requirement already satisfied: scikit-learn in c:\\users\\realy\\anaconda3\\envs\\py37\\lib\\site-packages (from sklearn) (1.0.1)\n",
      "Requirement already satisfied: scipy>=1.1.0 in c:\\users\\realy\\anaconda3\\envs\\py37\\lib\\site-packages (from scikit-learn->sklearn) (1.7.1)\n",
      "Requirement already satisfied: joblib>=0.11 in c:\\users\\realy\\anaconda3\\envs\\py37\\lib\\site-packages (from scikit-learn->sklearn) (1.1.0)\n",
      "Requirement already satisfied: threadpoolctl>=2.0.0 in c:\\users\\realy\\anaconda3\\envs\\py37\\lib\\site-packages (from scikit-learn->sklearn) (3.0.0)\n",
      "Requirement already satisfied: numpy>=1.14.6 in c:\\users\\realy\\anaconda3\\envs\\py37\\lib\\site-packages (from scikit-learn->sklearn) (1.21.2)\n"
     ]
    }
   ],
   "source": [
    "!pip install sklearn\n",
    "import sklearn"
   ]
  },
  {
   "cell_type": "markdown",
   "metadata": {},
   "source": [
    "### 1) 상위 핵심어에 대한 TF-IDF 분석"
   ]
  },
  {
   "cell_type": "markdown",
   "metadata": {},
   "source": [
    "TF-IDF 값에 대해서 테이블 형태로 살펴보기위해 DataFrame을 이용하여 출력한다."
   ]
  },
  {
   "cell_type": "code",
   "execution_count": 44,
   "metadata": {},
   "outputs": [
    {
     "name": "stderr",
     "output_type": "stream",
     "text": [
      "C:\\Users\\realy\\anaconda3\\envs\\py37\\lib\\site-packages\\sklearn\\utils\\deprecation.py:87: FutureWarning: Function get_feature_names is deprecated; get_feature_names is deprecated in 1.0 and will be removed in 1.2. Please use get_feature_names_out instead.\n",
      "  warnings.warn(msg, category=FutureWarning)\n"
     ]
    },
    {
     "data": {
      "text/html": [
       "<div>\n",
       "<style scoped>\n",
       "    .dataframe tbody tr th:only-of-type {\n",
       "        vertical-align: middle;\n",
       "    }\n",
       "\n",
       "    .dataframe tbody tr th {\n",
       "        vertical-align: top;\n",
       "    }\n",
       "\n",
       "    .dataframe thead th {\n",
       "        text-align: right;\n",
       "    }\n",
       "</style>\n",
       "<table border=\"1\" class=\"dataframe\">\n",
       "  <thead>\n",
       "    <tr style=\"text-align: right;\">\n",
       "      <th></th>\n",
       "      <th>가격</th>\n",
       "      <th>가능</th>\n",
       "      <th>건조기</th>\n",
       "      <th>공기</th>\n",
       "      <th>구매</th>\n",
       "      <th>듀얼</th>\n",
       "      <th>렌탈</th>\n",
       "      <th>로봇</th>\n",
       "      <th>매직</th>\n",
       "      <th>먼지</th>\n",
       "      <th>...</th>\n",
       "      <th>제품</th>\n",
       "      <th>청소</th>\n",
       "      <th>청소기</th>\n",
       "      <th>청정기</th>\n",
       "      <th>추천</th>\n",
       "      <th>케어</th>\n",
       "      <th>클린</th>\n",
       "      <th>트리플</th>\n",
       "      <th>필터</th>\n",
       "      <th>후기</th>\n",
       "    </tr>\n",
       "  </thead>\n",
       "  <tbody>\n",
       "    <tr>\n",
       "      <th>100</th>\n",
       "      <td>0.0</td>\n",
       "      <td>0.0</td>\n",
       "      <td>0.00000</td>\n",
       "      <td>0.0</td>\n",
       "      <td>0.000000</td>\n",
       "      <td>0.0</td>\n",
       "      <td>0.0</td>\n",
       "      <td>0.00000</td>\n",
       "      <td>0.000000</td>\n",
       "      <td>0.0</td>\n",
       "      <td>...</td>\n",
       "      <td>0.0</td>\n",
       "      <td>0.0</td>\n",
       "      <td>0.948683</td>\n",
       "      <td>0.0</td>\n",
       "      <td>0.316228</td>\n",
       "      <td>0.0</td>\n",
       "      <td>0.0</td>\n",
       "      <td>0.0</td>\n",
       "      <td>0.0</td>\n",
       "      <td>0.000000</td>\n",
       "    </tr>\n",
       "    <tr>\n",
       "      <th>101</th>\n",
       "      <td>0.0</td>\n",
       "      <td>0.0</td>\n",
       "      <td>0.00000</td>\n",
       "      <td>0.0</td>\n",
       "      <td>0.000000</td>\n",
       "      <td>0.0</td>\n",
       "      <td>0.0</td>\n",
       "      <td>0.00000</td>\n",
       "      <td>0.000000</td>\n",
       "      <td>0.0</td>\n",
       "      <td>...</td>\n",
       "      <td>0.0</td>\n",
       "      <td>0.0</td>\n",
       "      <td>0.500000</td>\n",
       "      <td>0.0</td>\n",
       "      <td>0.000000</td>\n",
       "      <td>0.0</td>\n",
       "      <td>0.0</td>\n",
       "      <td>0.0</td>\n",
       "      <td>0.0</td>\n",
       "      <td>0.500000</td>\n",
       "    </tr>\n",
       "    <tr>\n",
       "      <th>102</th>\n",
       "      <td>0.0</td>\n",
       "      <td>0.0</td>\n",
       "      <td>0.00000</td>\n",
       "      <td>0.0</td>\n",
       "      <td>0.707107</td>\n",
       "      <td>0.0</td>\n",
       "      <td>0.0</td>\n",
       "      <td>0.00000</td>\n",
       "      <td>0.000000</td>\n",
       "      <td>0.0</td>\n",
       "      <td>...</td>\n",
       "      <td>0.0</td>\n",
       "      <td>0.0</td>\n",
       "      <td>0.707107</td>\n",
       "      <td>0.0</td>\n",
       "      <td>0.000000</td>\n",
       "      <td>0.0</td>\n",
       "      <td>0.0</td>\n",
       "      <td>0.0</td>\n",
       "      <td>0.0</td>\n",
       "      <td>0.000000</td>\n",
       "    </tr>\n",
       "    <tr>\n",
       "      <th>103</th>\n",
       "      <td>0.0</td>\n",
       "      <td>0.0</td>\n",
       "      <td>0.57735</td>\n",
       "      <td>0.0</td>\n",
       "      <td>0.000000</td>\n",
       "      <td>0.0</td>\n",
       "      <td>0.0</td>\n",
       "      <td>0.57735</td>\n",
       "      <td>0.000000</td>\n",
       "      <td>0.0</td>\n",
       "      <td>...</td>\n",
       "      <td>0.0</td>\n",
       "      <td>0.0</td>\n",
       "      <td>0.577350</td>\n",
       "      <td>0.0</td>\n",
       "      <td>0.000000</td>\n",
       "      <td>0.0</td>\n",
       "      <td>0.0</td>\n",
       "      <td>0.0</td>\n",
       "      <td>0.0</td>\n",
       "      <td>0.000000</td>\n",
       "    </tr>\n",
       "    <tr>\n",
       "      <th>104</th>\n",
       "      <td>0.0</td>\n",
       "      <td>0.0</td>\n",
       "      <td>0.00000</td>\n",
       "      <td>0.0</td>\n",
       "      <td>0.000000</td>\n",
       "      <td>0.0</td>\n",
       "      <td>0.0</td>\n",
       "      <td>0.00000</td>\n",
       "      <td>0.000000</td>\n",
       "      <td>0.0</td>\n",
       "      <td>...</td>\n",
       "      <td>0.0</td>\n",
       "      <td>0.0</td>\n",
       "      <td>1.000000</td>\n",
       "      <td>0.0</td>\n",
       "      <td>0.000000</td>\n",
       "      <td>0.0</td>\n",
       "      <td>0.0</td>\n",
       "      <td>0.0</td>\n",
       "      <td>0.0</td>\n",
       "      <td>0.000000</td>\n",
       "    </tr>\n",
       "    <tr>\n",
       "      <th>105</th>\n",
       "      <td>0.0</td>\n",
       "      <td>0.0</td>\n",
       "      <td>0.00000</td>\n",
       "      <td>0.0</td>\n",
       "      <td>0.000000</td>\n",
       "      <td>0.0</td>\n",
       "      <td>0.0</td>\n",
       "      <td>0.00000</td>\n",
       "      <td>0.000000</td>\n",
       "      <td>0.0</td>\n",
       "      <td>...</td>\n",
       "      <td>0.0</td>\n",
       "      <td>0.0</td>\n",
       "      <td>0.707107</td>\n",
       "      <td>0.0</td>\n",
       "      <td>0.000000</td>\n",
       "      <td>0.0</td>\n",
       "      <td>0.0</td>\n",
       "      <td>0.0</td>\n",
       "      <td>0.0</td>\n",
       "      <td>0.000000</td>\n",
       "    </tr>\n",
       "    <tr>\n",
       "      <th>106</th>\n",
       "      <td>0.0</td>\n",
       "      <td>0.0</td>\n",
       "      <td>0.00000</td>\n",
       "      <td>0.0</td>\n",
       "      <td>0.000000</td>\n",
       "      <td>0.0</td>\n",
       "      <td>0.0</td>\n",
       "      <td>0.00000</td>\n",
       "      <td>0.000000</td>\n",
       "      <td>0.0</td>\n",
       "      <td>...</td>\n",
       "      <td>0.0</td>\n",
       "      <td>0.0</td>\n",
       "      <td>1.000000</td>\n",
       "      <td>0.0</td>\n",
       "      <td>0.000000</td>\n",
       "      <td>0.0</td>\n",
       "      <td>0.0</td>\n",
       "      <td>0.0</td>\n",
       "      <td>0.0</td>\n",
       "      <td>0.000000</td>\n",
       "    </tr>\n",
       "    <tr>\n",
       "      <th>107</th>\n",
       "      <td>0.0</td>\n",
       "      <td>0.0</td>\n",
       "      <td>0.00000</td>\n",
       "      <td>0.0</td>\n",
       "      <td>0.000000</td>\n",
       "      <td>0.0</td>\n",
       "      <td>0.0</td>\n",
       "      <td>0.00000</td>\n",
       "      <td>0.500000</td>\n",
       "      <td>0.0</td>\n",
       "      <td>...</td>\n",
       "      <td>0.0</td>\n",
       "      <td>0.0</td>\n",
       "      <td>0.500000</td>\n",
       "      <td>0.0</td>\n",
       "      <td>0.000000</td>\n",
       "      <td>0.0</td>\n",
       "      <td>0.0</td>\n",
       "      <td>0.0</td>\n",
       "      <td>0.0</td>\n",
       "      <td>0.000000</td>\n",
       "    </tr>\n",
       "    <tr>\n",
       "      <th>108</th>\n",
       "      <td>0.0</td>\n",
       "      <td>0.0</td>\n",
       "      <td>0.00000</td>\n",
       "      <td>0.0</td>\n",
       "      <td>0.000000</td>\n",
       "      <td>0.0</td>\n",
       "      <td>0.0</td>\n",
       "      <td>0.00000</td>\n",
       "      <td>0.000000</td>\n",
       "      <td>0.0</td>\n",
       "      <td>...</td>\n",
       "      <td>0.0</td>\n",
       "      <td>0.0</td>\n",
       "      <td>0.948683</td>\n",
       "      <td>0.0</td>\n",
       "      <td>0.000000</td>\n",
       "      <td>0.0</td>\n",
       "      <td>0.0</td>\n",
       "      <td>0.0</td>\n",
       "      <td>0.0</td>\n",
       "      <td>0.000000</td>\n",
       "    </tr>\n",
       "    <tr>\n",
       "      <th>109</th>\n",
       "      <td>0.0</td>\n",
       "      <td>0.0</td>\n",
       "      <td>0.00000</td>\n",
       "      <td>0.0</td>\n",
       "      <td>0.000000</td>\n",
       "      <td>0.0</td>\n",
       "      <td>0.0</td>\n",
       "      <td>0.00000</td>\n",
       "      <td>0.288675</td>\n",
       "      <td>0.0</td>\n",
       "      <td>...</td>\n",
       "      <td>0.0</td>\n",
       "      <td>0.0</td>\n",
       "      <td>0.000000</td>\n",
       "      <td>0.0</td>\n",
       "      <td>0.288675</td>\n",
       "      <td>0.0</td>\n",
       "      <td>0.0</td>\n",
       "      <td>0.0</td>\n",
       "      <td>0.0</td>\n",
       "      <td>0.288675</td>\n",
       "    </tr>\n",
       "  </tbody>\n",
       "</table>\n",
       "<p>10 rows × 28 columns</p>\n",
       "</div>"
      ],
      "text/plain": [
       "      가격   가능      건조기   공기        구매   듀얼   렌탈       로봇        매직   먼지  ...  \\\n",
       "100  0.0  0.0  0.00000  0.0  0.000000  0.0  0.0  0.00000  0.000000  0.0  ...   \n",
       "101  0.0  0.0  0.00000  0.0  0.000000  0.0  0.0  0.00000  0.000000  0.0  ...   \n",
       "102  0.0  0.0  0.00000  0.0  0.707107  0.0  0.0  0.00000  0.000000  0.0  ...   \n",
       "103  0.0  0.0  0.57735  0.0  0.000000  0.0  0.0  0.57735  0.000000  0.0  ...   \n",
       "104  0.0  0.0  0.00000  0.0  0.000000  0.0  0.0  0.00000  0.000000  0.0  ...   \n",
       "105  0.0  0.0  0.00000  0.0  0.000000  0.0  0.0  0.00000  0.000000  0.0  ...   \n",
       "106  0.0  0.0  0.00000  0.0  0.000000  0.0  0.0  0.00000  0.000000  0.0  ...   \n",
       "107  0.0  0.0  0.00000  0.0  0.000000  0.0  0.0  0.00000  0.500000  0.0  ...   \n",
       "108  0.0  0.0  0.00000  0.0  0.000000  0.0  0.0  0.00000  0.000000  0.0  ...   \n",
       "109  0.0  0.0  0.00000  0.0  0.000000  0.0  0.0  0.00000  0.288675  0.0  ...   \n",
       "\n",
       "      제품   청소       청소기  청정기        추천   케어   클린  트리플   필터        후기  \n",
       "100  0.0  0.0  0.948683  0.0  0.316228  0.0  0.0  0.0  0.0  0.000000  \n",
       "101  0.0  0.0  0.500000  0.0  0.000000  0.0  0.0  0.0  0.0  0.500000  \n",
       "102  0.0  0.0  0.707107  0.0  0.000000  0.0  0.0  0.0  0.0  0.000000  \n",
       "103  0.0  0.0  0.577350  0.0  0.000000  0.0  0.0  0.0  0.0  0.000000  \n",
       "104  0.0  0.0  1.000000  0.0  0.000000  0.0  0.0  0.0  0.0  0.000000  \n",
       "105  0.0  0.0  0.707107  0.0  0.000000  0.0  0.0  0.0  0.0  0.000000  \n",
       "106  0.0  0.0  1.000000  0.0  0.000000  0.0  0.0  0.0  0.0  0.000000  \n",
       "107  0.0  0.0  0.500000  0.0  0.000000  0.0  0.0  0.0  0.0  0.000000  \n",
       "108  0.0  0.0  0.948683  0.0  0.000000  0.0  0.0  0.0  0.0  0.000000  \n",
       "109  0.0  0.0  0.000000  0.0  0.288675  0.0  0.0  0.0  0.0  0.288675  \n",
       "\n",
       "[10 rows x 28 columns]"
      ]
     },
     "execution_count": 44,
     "metadata": {},
     "output_type": "execute_result"
    }
   ],
   "source": [
    "from sklearn.feature_extraction.text import TfidfVectorizer, CountVectorizer\n",
    "\n",
    "vect = CountVectorizer()\n",
    "document_term_matrix = vect.fit_transform(tm_top_nouns)\n",
    "\n",
    "tm_tfidv = TfidfVectorizer().fit(tm_top_nouns)\n",
    "tm_tfidv.transform(tm_posts).toarray()\n",
    "\n",
    "tm_30_tfidf=pd.DataFrame(tm_tfidv.transform(tm_posts).toarray(), columns=vect.get_feature_names())\n",
    "tm_30_tfidf[100:110]"
   ]
  },
  {
   "cell_type": "code",
   "execution_count": 45,
   "metadata": {},
   "outputs": [],
   "source": [
    "tm_30_tfidf.to_csv('./data/skm_blog_tfidf30.csv', encoding='utf-8-sig') # csv 저장\n",
    "\n",
    "tfidf_xlsx = pd.ExcelWriter('./data/skm_blog_tfidf30.xlsx', engine='xlsxwriter') # xslx 파일로 저장 \n",
    "tm_30_tfidf.to_excel(tfidf_xlsx, sheet_name='Sheet1') \n",
    "tfidf_xlsx.close()"
   ]
  },
  {
   "cell_type": "code",
   "execution_count": 46,
   "metadata": {},
   "outputs": [
    {
     "name": "stdout",
     "output_type": "stream",
     "text": [
      "['가격' '감사' '걸레' '걸레질' '구매' '구입' '대비' '디자인' '마음' '만족' '무선' '물걸레' '바닥' '배송'\n",
      " '사용' '상품' '선물' '소음' '스핀' '엄마' '제품' '청소' '청소기' '추천' '편리' '포장' '하나' '허리']\n"
     ]
    }
   ],
   "source": [
    "# 상위 핵심어 30개 : 쇼핑 후기\n",
    "\n",
    "import pandas as pd\n",
    "shp30 = pd.read_csv(\"./data/skm_shp_tfidf30.csv\", encoding='utf-8-sig')\n",
    "\n",
    "print(shp30.columns.values)"
   ]
  },
  {
   "cell_type": "code",
   "execution_count": 47,
   "metadata": {},
   "outputs": [
    {
     "name": "stdout",
     "output_type": "stream",
     "text": [
      "['Unnamed: 0' '가격' '가능' '건조기' '공기' '구매' '듀얼' '렌탈' '로봇' '매직' '먼지' '무선'\n",
      " '물걸레' '사용' '설치' '스핀' '식기세척기' '인용' '정수기' '제품' '청소' '청소기' '청정기' '추천' '케어'\n",
      " '클린' '트리플' '필터' '후기']\n"
     ]
    }
   ],
   "source": [
    "# 상위 핵심어 30개 : 블로그\n",
    "\n",
    "import pandas as pd\n",
    "blog30 = pd.read_csv(\"./data/skm_blog_tfidf30.csv\", encoding='utf-8-sig')\n",
    "\n",
    "print(blog30.columns.values)"
   ]
  },
  {
   "cell_type": "markdown",
   "metadata": {},
   "source": [
    "### 2) 관심있는 단어를 직접 지정하여 TF-IDF 구하기"
   ]
  },
  {
   "cell_type": "code",
   "execution_count": 48,
   "metadata": {},
   "outputs": [
    {
     "name": "stdout",
     "output_type": "stream",
     "text": [
      "['가격', '청소기', '물걸레', '무선', '구매', '스핀', '추천', '제품', '청소', '로봇', '필터', '케어', '선물', '소음', '편리']\n"
     ]
    }
   ],
   "source": [
    "custom_vocab = ['가격', '청소기', '물걸레', '무선', '구매' ,'스핀', '추천' ,'제품' ,'청소' ,'로봇' \n",
    "                ,'필터' ,'케어' ,'선물', '소음' ,'편리']\n",
    "print(custom_vocab)"
   ]
  },
  {
   "cell_type": "code",
   "execution_count": 49,
   "metadata": {},
   "outputs": [
    {
     "name": "stderr",
     "output_type": "stream",
     "text": [
      "C:\\Users\\realy\\anaconda3\\envs\\py37\\lib\\site-packages\\sklearn\\utils\\deprecation.py:87: FutureWarning: Function get_feature_names is deprecated; get_feature_names is deprecated in 1.0 and will be removed in 1.2. Please use get_feature_names_out instead.\n",
      "  warnings.warn(msg, category=FutureWarning)\n"
     ]
    },
    {
     "data": {
      "text/html": [
       "<div>\n",
       "<style scoped>\n",
       "    .dataframe tbody tr th:only-of-type {\n",
       "        vertical-align: middle;\n",
       "    }\n",
       "\n",
       "    .dataframe tbody tr th {\n",
       "        vertical-align: top;\n",
       "    }\n",
       "\n",
       "    .dataframe thead th {\n",
       "        text-align: right;\n",
       "    }\n",
       "</style>\n",
       "<table border=\"1\" class=\"dataframe\">\n",
       "  <thead>\n",
       "    <tr style=\"text-align: right;\">\n",
       "      <th></th>\n",
       "      <th>가격</th>\n",
       "      <th>구매</th>\n",
       "      <th>로봇</th>\n",
       "      <th>무선</th>\n",
       "      <th>물걸레</th>\n",
       "      <th>선물</th>\n",
       "      <th>소음</th>\n",
       "      <th>스핀</th>\n",
       "      <th>제품</th>\n",
       "      <th>청소</th>\n",
       "      <th>청소기</th>\n",
       "      <th>추천</th>\n",
       "      <th>케어</th>\n",
       "      <th>편리</th>\n",
       "      <th>필터</th>\n",
       "    </tr>\n",
       "  </thead>\n",
       "  <tbody>\n",
       "    <tr>\n",
       "      <th>100</th>\n",
       "      <td>0.0</td>\n",
       "      <td>0.000000</td>\n",
       "      <td>0.000000</td>\n",
       "      <td>0.00000</td>\n",
       "      <td>0.000000</td>\n",
       "      <td>0.0</td>\n",
       "      <td>0.0</td>\n",
       "      <td>0.0</td>\n",
       "      <td>0.0</td>\n",
       "      <td>0.0</td>\n",
       "      <td>0.948683</td>\n",
       "      <td>0.316228</td>\n",
       "      <td>0.0</td>\n",
       "      <td>0.0</td>\n",
       "      <td>0.0</td>\n",
       "    </tr>\n",
       "    <tr>\n",
       "      <th>101</th>\n",
       "      <td>0.0</td>\n",
       "      <td>0.000000</td>\n",
       "      <td>0.000000</td>\n",
       "      <td>0.00000</td>\n",
       "      <td>0.707107</td>\n",
       "      <td>0.0</td>\n",
       "      <td>0.0</td>\n",
       "      <td>0.0</td>\n",
       "      <td>0.0</td>\n",
       "      <td>0.0</td>\n",
       "      <td>0.707107</td>\n",
       "      <td>0.000000</td>\n",
       "      <td>0.0</td>\n",
       "      <td>0.0</td>\n",
       "      <td>0.0</td>\n",
       "    </tr>\n",
       "    <tr>\n",
       "      <th>102</th>\n",
       "      <td>0.0</td>\n",
       "      <td>0.707107</td>\n",
       "      <td>0.000000</td>\n",
       "      <td>0.00000</td>\n",
       "      <td>0.000000</td>\n",
       "      <td>0.0</td>\n",
       "      <td>0.0</td>\n",
       "      <td>0.0</td>\n",
       "      <td>0.0</td>\n",
       "      <td>0.0</td>\n",
       "      <td>0.707107</td>\n",
       "      <td>0.000000</td>\n",
       "      <td>0.0</td>\n",
       "      <td>0.0</td>\n",
       "      <td>0.0</td>\n",
       "    </tr>\n",
       "    <tr>\n",
       "      <th>103</th>\n",
       "      <td>0.0</td>\n",
       "      <td>0.000000</td>\n",
       "      <td>0.707107</td>\n",
       "      <td>0.00000</td>\n",
       "      <td>0.000000</td>\n",
       "      <td>0.0</td>\n",
       "      <td>0.0</td>\n",
       "      <td>0.0</td>\n",
       "      <td>0.0</td>\n",
       "      <td>0.0</td>\n",
       "      <td>0.707107</td>\n",
       "      <td>0.000000</td>\n",
       "      <td>0.0</td>\n",
       "      <td>0.0</td>\n",
       "      <td>0.0</td>\n",
       "    </tr>\n",
       "    <tr>\n",
       "      <th>104</th>\n",
       "      <td>0.0</td>\n",
       "      <td>0.000000</td>\n",
       "      <td>0.000000</td>\n",
       "      <td>0.00000</td>\n",
       "      <td>0.000000</td>\n",
       "      <td>0.0</td>\n",
       "      <td>0.0</td>\n",
       "      <td>0.0</td>\n",
       "      <td>0.0</td>\n",
       "      <td>0.0</td>\n",
       "      <td>1.000000</td>\n",
       "      <td>0.000000</td>\n",
       "      <td>0.0</td>\n",
       "      <td>0.0</td>\n",
       "      <td>0.0</td>\n",
       "    </tr>\n",
       "    <tr>\n",
       "      <th>105</th>\n",
       "      <td>0.0</td>\n",
       "      <td>0.000000</td>\n",
       "      <td>0.000000</td>\n",
       "      <td>0.00000</td>\n",
       "      <td>0.707107</td>\n",
       "      <td>0.0</td>\n",
       "      <td>0.0</td>\n",
       "      <td>0.0</td>\n",
       "      <td>0.0</td>\n",
       "      <td>0.0</td>\n",
       "      <td>0.707107</td>\n",
       "      <td>0.000000</td>\n",
       "      <td>0.0</td>\n",
       "      <td>0.0</td>\n",
       "      <td>0.0</td>\n",
       "    </tr>\n",
       "    <tr>\n",
       "      <th>106</th>\n",
       "      <td>0.0</td>\n",
       "      <td>0.000000</td>\n",
       "      <td>0.000000</td>\n",
       "      <td>0.00000</td>\n",
       "      <td>0.000000</td>\n",
       "      <td>0.0</td>\n",
       "      <td>0.0</td>\n",
       "      <td>0.0</td>\n",
       "      <td>0.0</td>\n",
       "      <td>0.0</td>\n",
       "      <td>1.000000</td>\n",
       "      <td>0.000000</td>\n",
       "      <td>0.0</td>\n",
       "      <td>0.0</td>\n",
       "      <td>0.0</td>\n",
       "    </tr>\n",
       "    <tr>\n",
       "      <th>107</th>\n",
       "      <td>0.0</td>\n",
       "      <td>0.000000</td>\n",
       "      <td>0.000000</td>\n",
       "      <td>0.57735</td>\n",
       "      <td>0.577350</td>\n",
       "      <td>0.0</td>\n",
       "      <td>0.0</td>\n",
       "      <td>0.0</td>\n",
       "      <td>0.0</td>\n",
       "      <td>0.0</td>\n",
       "      <td>0.577350</td>\n",
       "      <td>0.000000</td>\n",
       "      <td>0.0</td>\n",
       "      <td>0.0</td>\n",
       "      <td>0.0</td>\n",
       "    </tr>\n",
       "    <tr>\n",
       "      <th>108</th>\n",
       "      <td>0.0</td>\n",
       "      <td>0.000000</td>\n",
       "      <td>0.000000</td>\n",
       "      <td>0.00000</td>\n",
       "      <td>0.316228</td>\n",
       "      <td>0.0</td>\n",
       "      <td>0.0</td>\n",
       "      <td>0.0</td>\n",
       "      <td>0.0</td>\n",
       "      <td>0.0</td>\n",
       "      <td>0.948683</td>\n",
       "      <td>0.000000</td>\n",
       "      <td>0.0</td>\n",
       "      <td>0.0</td>\n",
       "      <td>0.0</td>\n",
       "    </tr>\n",
       "    <tr>\n",
       "      <th>109</th>\n",
       "      <td>0.0</td>\n",
       "      <td>0.000000</td>\n",
       "      <td>0.000000</td>\n",
       "      <td>0.00000</td>\n",
       "      <td>0.000000</td>\n",
       "      <td>0.0</td>\n",
       "      <td>0.0</td>\n",
       "      <td>0.0</td>\n",
       "      <td>0.0</td>\n",
       "      <td>0.0</td>\n",
       "      <td>0.000000</td>\n",
       "      <td>1.000000</td>\n",
       "      <td>0.0</td>\n",
       "      <td>0.0</td>\n",
       "      <td>0.0</td>\n",
       "    </tr>\n",
       "  </tbody>\n",
       "</table>\n",
       "</div>"
      ],
      "text/plain": [
       "      가격        구매        로봇       무선       물걸레   선물   소음   스핀   제품   청소  \\\n",
       "100  0.0  0.000000  0.000000  0.00000  0.000000  0.0  0.0  0.0  0.0  0.0   \n",
       "101  0.0  0.000000  0.000000  0.00000  0.707107  0.0  0.0  0.0  0.0  0.0   \n",
       "102  0.0  0.707107  0.000000  0.00000  0.000000  0.0  0.0  0.0  0.0  0.0   \n",
       "103  0.0  0.000000  0.707107  0.00000  0.000000  0.0  0.0  0.0  0.0  0.0   \n",
       "104  0.0  0.000000  0.000000  0.00000  0.000000  0.0  0.0  0.0  0.0  0.0   \n",
       "105  0.0  0.000000  0.000000  0.00000  0.707107  0.0  0.0  0.0  0.0  0.0   \n",
       "106  0.0  0.000000  0.000000  0.00000  0.000000  0.0  0.0  0.0  0.0  0.0   \n",
       "107  0.0  0.000000  0.000000  0.57735  0.577350  0.0  0.0  0.0  0.0  0.0   \n",
       "108  0.0  0.000000  0.000000  0.00000  0.316228  0.0  0.0  0.0  0.0  0.0   \n",
       "109  0.0  0.000000  0.000000  0.00000  0.000000  0.0  0.0  0.0  0.0  0.0   \n",
       "\n",
       "          청소기        추천   케어   편리   필터  \n",
       "100  0.948683  0.316228  0.0  0.0  0.0  \n",
       "101  0.707107  0.000000  0.0  0.0  0.0  \n",
       "102  0.707107  0.000000  0.0  0.0  0.0  \n",
       "103  0.707107  0.000000  0.0  0.0  0.0  \n",
       "104  1.000000  0.000000  0.0  0.0  0.0  \n",
       "105  0.707107  0.000000  0.0  0.0  0.0  \n",
       "106  1.000000  0.000000  0.0  0.0  0.0  \n",
       "107  0.577350  0.000000  0.0  0.0  0.0  \n",
       "108  0.948683  0.000000  0.0  0.0  0.0  \n",
       "109  0.000000  1.000000  0.0  0.0  0.0  "
      ]
     },
     "execution_count": 49,
     "metadata": {},
     "output_type": "execute_result"
    }
   ],
   "source": [
    "vect = CountVectorizer()\n",
    "custom_term_matrix = vect.fit_transform(custom_vocab)\n",
    "\n",
    "custom_tm_tfidv = TfidfVectorizer().fit(custom_vocab)\n",
    "custom_tm_tfidv.transform(tm_posts).toarray()\n",
    "\n",
    "custom_tm_tfidf=pd.DataFrame(custom_tm_tfidv.transform(tm_posts).toarray(), columns=vect.get_feature_names())\n",
    "custom_tm_tfidf[100:110]"
   ]
  },
  {
   "cell_type": "code",
   "execution_count": 51,
   "metadata": {},
   "outputs": [],
   "source": [
    "custom_tm_tfidf.to_csv('./data/skm_blog_tfidf_15.csv', encoding='utf-8-sig') # csv 저장\n",
    "\n",
    "custom_tfidf_xlsx = pd.ExcelWriter('./data/skm_blog_tfidf_15.xlsx', engine='xlsxwriter') # xslx 파일로 저장 \n",
    "custom_tm_tfidf.to_excel(custom_tfidf_xlsx, sheet_name='Sheet1') \n",
    "custom_tfidf_xlsx.close()"
   ]
  },
  {
   "cell_type": "markdown",
   "metadata": {},
   "source": [
    "### 3) TF-IDF에 따른 T-test"
   ]
  },
  {
   "cell_type": "code",
   "execution_count": 3,
   "metadata": {},
   "outputs": [],
   "source": [
    "import pandas as pd\n",
    "\n",
    "blog = pd.read_csv(\"./data/skm_blog_tfidf_15.csv\", encoding='utf-8-sig')\n",
    "shp = pd.read_csv(\"./data/skm_shoping_tfidf_15.csv\", encoding='utf-8-sig')"
   ]
  },
  {
   "cell_type": "code",
   "execution_count": 11,
   "metadata": {},
   "outputs": [],
   "source": [
    "import numpy as np\n",
    "from scipy import stats"
   ]
  },
  {
   "cell_type": "code",
   "execution_count": 17,
   "metadata": {},
   "outputs": [
    {
     "name": "stdout",
     "output_type": "stream",
     "text": [
      "t_test = [-16.65204007   0.66679302   0.4057029    9.28167424  11.16416275\n",
      "   5.1029968   -1.10129101  -1.05773501  -1.676082    -1.73807597\n",
      "  -2.478377    36.54390793   9.21371943   3.50539611  -0.47622414\n",
      "   6.69748161]\n",
      "p_val = [2.00082693e-057 5.05003146e-001 6.85016655e-001 5.40910235e-020\n",
      " 6.77907700e-028 3.75381033e-007 2.70940242e-001 2.90340343e-001\n",
      " 9.39228967e-002 8.23951282e-002 1.33034660e-002 1.18465137e-211\n",
      " 9.88078384e-020 4.68852406e-004 6.33981523e-001 2.95256838e-011]\n"
     ]
    }
   ],
   "source": [
    "t_stat, p_val = stats.ttest_ind(blog, shp)\n",
    "\n",
    "print(\"t_test = \" + str(t_stat) + \"\\n\" + \"p_val = \" + str(p_val))"
   ]
  },
  {
   "cell_type": "code",
   "execution_count": null,
   "metadata": {},
   "outputs": [],
   "source": [
    "4,5,6,12,13,14,16"
   ]
  },
  {
   "cell_type": "code",
   "execution_count": 18,
   "metadata": {},
   "outputs": [
    {
     "data": {
      "text/html": [
       "<div>\n",
       "<style scoped>\n",
       "    .dataframe tbody tr th:only-of-type {\n",
       "        vertical-align: middle;\n",
       "    }\n",
       "\n",
       "    .dataframe tbody tr th {\n",
       "        vertical-align: top;\n",
       "    }\n",
       "\n",
       "    .dataframe thead th {\n",
       "        text-align: right;\n",
       "    }\n",
       "</style>\n",
       "<table border=\"1\" class=\"dataframe\">\n",
       "  <thead>\n",
       "    <tr style=\"text-align: right;\">\n",
       "      <th></th>\n",
       "      <th>Unnamed: 0</th>\n",
       "      <th>가격</th>\n",
       "      <th>구매</th>\n",
       "      <th>로봇</th>\n",
       "      <th>무선</th>\n",
       "      <th>물걸레</th>\n",
       "      <th>선물</th>\n",
       "      <th>소음</th>\n",
       "      <th>스핀</th>\n",
       "      <th>제품</th>\n",
       "      <th>청소</th>\n",
       "      <th>청소기</th>\n",
       "      <th>추천</th>\n",
       "      <th>케어</th>\n",
       "      <th>편리</th>\n",
       "      <th>필터</th>\n",
       "    </tr>\n",
       "  </thead>\n",
       "  <tbody>\n",
       "    <tr>\n",
       "      <th>0</th>\n",
       "      <td>0</td>\n",
       "      <td>0.0</td>\n",
       "      <td>0.0</td>\n",
       "      <td>0.707107</td>\n",
       "      <td>0.000000</td>\n",
       "      <td>0.0</td>\n",
       "      <td>0.0</td>\n",
       "      <td>0.0</td>\n",
       "      <td>0.0</td>\n",
       "      <td>0.0</td>\n",
       "      <td>0.000000</td>\n",
       "      <td>0.707107</td>\n",
       "      <td>0.0</td>\n",
       "      <td>0.000000</td>\n",
       "      <td>0.0</td>\n",
       "      <td>0.0</td>\n",
       "    </tr>\n",
       "    <tr>\n",
       "      <th>1</th>\n",
       "      <td>1</td>\n",
       "      <td>0.0</td>\n",
       "      <td>0.0</td>\n",
       "      <td>0.000000</td>\n",
       "      <td>0.000000</td>\n",
       "      <td>0.0</td>\n",
       "      <td>0.0</td>\n",
       "      <td>0.0</td>\n",
       "      <td>0.0</td>\n",
       "      <td>0.0</td>\n",
       "      <td>0.447214</td>\n",
       "      <td>0.894427</td>\n",
       "      <td>0.0</td>\n",
       "      <td>0.000000</td>\n",
       "      <td>0.0</td>\n",
       "      <td>0.0</td>\n",
       "    </tr>\n",
       "    <tr>\n",
       "      <th>2</th>\n",
       "      <td>2</td>\n",
       "      <td>0.0</td>\n",
       "      <td>0.0</td>\n",
       "      <td>0.000000</td>\n",
       "      <td>0.780869</td>\n",
       "      <td>0.0</td>\n",
       "      <td>0.0</td>\n",
       "      <td>0.0</td>\n",
       "      <td>0.0</td>\n",
       "      <td>0.0</td>\n",
       "      <td>0.000000</td>\n",
       "      <td>0.624695</td>\n",
       "      <td>0.0</td>\n",
       "      <td>0.000000</td>\n",
       "      <td>0.0</td>\n",
       "      <td>0.0</td>\n",
       "    </tr>\n",
       "    <tr>\n",
       "      <th>3</th>\n",
       "      <td>3</td>\n",
       "      <td>0.0</td>\n",
       "      <td>0.0</td>\n",
       "      <td>0.000000</td>\n",
       "      <td>0.000000</td>\n",
       "      <td>0.0</td>\n",
       "      <td>0.0</td>\n",
       "      <td>0.0</td>\n",
       "      <td>0.0</td>\n",
       "      <td>0.0</td>\n",
       "      <td>0.000000</td>\n",
       "      <td>1.000000</td>\n",
       "      <td>0.0</td>\n",
       "      <td>0.000000</td>\n",
       "      <td>0.0</td>\n",
       "      <td>0.0</td>\n",
       "    </tr>\n",
       "    <tr>\n",
       "      <th>4</th>\n",
       "      <td>4</td>\n",
       "      <td>0.0</td>\n",
       "      <td>0.0</td>\n",
       "      <td>0.000000</td>\n",
       "      <td>0.000000</td>\n",
       "      <td>0.0</td>\n",
       "      <td>0.0</td>\n",
       "      <td>0.0</td>\n",
       "      <td>0.0</td>\n",
       "      <td>0.0</td>\n",
       "      <td>0.000000</td>\n",
       "      <td>1.000000</td>\n",
       "      <td>0.0</td>\n",
       "      <td>0.000000</td>\n",
       "      <td>0.0</td>\n",
       "      <td>0.0</td>\n",
       "    </tr>\n",
       "    <tr>\n",
       "      <th>...</th>\n",
       "      <td>...</td>\n",
       "      <td>...</td>\n",
       "      <td>...</td>\n",
       "      <td>...</td>\n",
       "      <td>...</td>\n",
       "      <td>...</td>\n",
       "      <td>...</td>\n",
       "      <td>...</td>\n",
       "      <td>...</td>\n",
       "      <td>...</td>\n",
       "      <td>...</td>\n",
       "      <td>...</td>\n",
       "      <td>...</td>\n",
       "      <td>...</td>\n",
       "      <td>...</td>\n",
       "      <td>...</td>\n",
       "    </tr>\n",
       "    <tr>\n",
       "      <th>554</th>\n",
       "      <td>554</td>\n",
       "      <td>0.0</td>\n",
       "      <td>0.0</td>\n",
       "      <td>0.000000</td>\n",
       "      <td>0.000000</td>\n",
       "      <td>0.0</td>\n",
       "      <td>0.0</td>\n",
       "      <td>0.0</td>\n",
       "      <td>0.0</td>\n",
       "      <td>0.0</td>\n",
       "      <td>0.000000</td>\n",
       "      <td>0.707107</td>\n",
       "      <td>0.0</td>\n",
       "      <td>0.707107</td>\n",
       "      <td>0.0</td>\n",
       "      <td>0.0</td>\n",
       "    </tr>\n",
       "    <tr>\n",
       "      <th>555</th>\n",
       "      <td>555</td>\n",
       "      <td>0.0</td>\n",
       "      <td>0.0</td>\n",
       "      <td>0.000000</td>\n",
       "      <td>0.000000</td>\n",
       "      <td>0.0</td>\n",
       "      <td>0.0</td>\n",
       "      <td>0.0</td>\n",
       "      <td>0.0</td>\n",
       "      <td>0.0</td>\n",
       "      <td>0.000000</td>\n",
       "      <td>1.000000</td>\n",
       "      <td>0.0</td>\n",
       "      <td>0.000000</td>\n",
       "      <td>0.0</td>\n",
       "      <td>0.0</td>\n",
       "    </tr>\n",
       "    <tr>\n",
       "      <th>556</th>\n",
       "      <td>556</td>\n",
       "      <td>0.0</td>\n",
       "      <td>0.0</td>\n",
       "      <td>0.000000</td>\n",
       "      <td>0.000000</td>\n",
       "      <td>0.0</td>\n",
       "      <td>0.0</td>\n",
       "      <td>0.0</td>\n",
       "      <td>0.0</td>\n",
       "      <td>0.0</td>\n",
       "      <td>0.000000</td>\n",
       "      <td>1.000000</td>\n",
       "      <td>0.0</td>\n",
       "      <td>0.000000</td>\n",
       "      <td>0.0</td>\n",
       "      <td>0.0</td>\n",
       "    </tr>\n",
       "    <tr>\n",
       "      <th>557</th>\n",
       "      <td>557</td>\n",
       "      <td>0.0</td>\n",
       "      <td>0.0</td>\n",
       "      <td>0.000000</td>\n",
       "      <td>0.000000</td>\n",
       "      <td>0.0</td>\n",
       "      <td>0.0</td>\n",
       "      <td>0.0</td>\n",
       "      <td>0.0</td>\n",
       "      <td>0.0</td>\n",
       "      <td>0.000000</td>\n",
       "      <td>1.000000</td>\n",
       "      <td>0.0</td>\n",
       "      <td>0.000000</td>\n",
       "      <td>0.0</td>\n",
       "      <td>0.0</td>\n",
       "    </tr>\n",
       "    <tr>\n",
       "      <th>558</th>\n",
       "      <td>558</td>\n",
       "      <td>0.0</td>\n",
       "      <td>0.0</td>\n",
       "      <td>0.000000</td>\n",
       "      <td>0.000000</td>\n",
       "      <td>0.0</td>\n",
       "      <td>0.0</td>\n",
       "      <td>0.0</td>\n",
       "      <td>0.0</td>\n",
       "      <td>0.0</td>\n",
       "      <td>0.000000</td>\n",
       "      <td>0.000000</td>\n",
       "      <td>0.0</td>\n",
       "      <td>0.000000</td>\n",
       "      <td>0.0</td>\n",
       "      <td>0.0</td>\n",
       "    </tr>\n",
       "  </tbody>\n",
       "</table>\n",
       "<p>559 rows × 16 columns</p>\n",
       "</div>"
      ],
      "text/plain": [
       "     Unnamed: 0   가격   구매        로봇        무선  물걸레   선물   소음   스핀   제품  \\\n",
       "0             0  0.0  0.0  0.707107  0.000000  0.0  0.0  0.0  0.0  0.0   \n",
       "1             1  0.0  0.0  0.000000  0.000000  0.0  0.0  0.0  0.0  0.0   \n",
       "2             2  0.0  0.0  0.000000  0.780869  0.0  0.0  0.0  0.0  0.0   \n",
       "3             3  0.0  0.0  0.000000  0.000000  0.0  0.0  0.0  0.0  0.0   \n",
       "4             4  0.0  0.0  0.000000  0.000000  0.0  0.0  0.0  0.0  0.0   \n",
       "..          ...  ...  ...       ...       ...  ...  ...  ...  ...  ...   \n",
       "554         554  0.0  0.0  0.000000  0.000000  0.0  0.0  0.0  0.0  0.0   \n",
       "555         555  0.0  0.0  0.000000  0.000000  0.0  0.0  0.0  0.0  0.0   \n",
       "556         556  0.0  0.0  0.000000  0.000000  0.0  0.0  0.0  0.0  0.0   \n",
       "557         557  0.0  0.0  0.000000  0.000000  0.0  0.0  0.0  0.0  0.0   \n",
       "558         558  0.0  0.0  0.000000  0.000000  0.0  0.0  0.0  0.0  0.0   \n",
       "\n",
       "           청소       청소기   추천        케어   편리   필터  \n",
       "0    0.000000  0.707107  0.0  0.000000  0.0  0.0  \n",
       "1    0.447214  0.894427  0.0  0.000000  0.0  0.0  \n",
       "2    0.000000  0.624695  0.0  0.000000  0.0  0.0  \n",
       "3    0.000000  1.000000  0.0  0.000000  0.0  0.0  \n",
       "4    0.000000  1.000000  0.0  0.000000  0.0  0.0  \n",
       "..        ...       ...  ...       ...  ...  ...  \n",
       "554  0.000000  0.707107  0.0  0.707107  0.0  0.0  \n",
       "555  0.000000  1.000000  0.0  0.000000  0.0  0.0  \n",
       "556  0.000000  1.000000  0.0  0.000000  0.0  0.0  \n",
       "557  0.000000  1.000000  0.0  0.000000  0.0  0.0  \n",
       "558  0.000000  0.000000  0.0  0.000000  0.0  0.0  \n",
       "\n",
       "[559 rows x 16 columns]"
      ]
     },
     "execution_count": 18,
     "metadata": {},
     "output_type": "execute_result"
    }
   ],
   "source": []
  },
  {
   "cell_type": "code",
   "execution_count": null,
   "metadata": {},
   "outputs": [],
   "source": []
  }
 ],
 "metadata": {
  "kernelspec": {
   "display_name": "Python 3 (ipykernel)",
   "language": "python",
   "name": "python3"
  },
  "language_info": {
   "codemirror_mode": {
    "name": "ipython",
    "version": 3
   },
   "file_extension": ".py",
   "mimetype": "text/x-python",
   "name": "python",
   "nbconvert_exporter": "python",
   "pygments_lexer": "ipython3",
   "version": "3.9.12"
  }
 },
 "nbformat": 4,
 "nbformat_minor": 4
}
