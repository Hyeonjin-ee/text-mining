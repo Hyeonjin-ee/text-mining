{
 "cells": [
  {
   "cell_type": "markdown",
   "id": "ee75d5c9",
   "metadata": {},
   "source": [
    "\n",
    "   "
   ]
  },
  {
   "cell_type": "markdown",
   "id": "0bd4b59a",
   "metadata": {},
   "source": [
    "### 필요한 라이브러리 설치"
   ]
  },
  {
   "cell_type": "code",
   "execution_count": 1,
   "id": "fcafce1b",
   "metadata": {},
   "outputs": [],
   "source": [
    "# !pip install networkx\n",
    "# !pip install gensim\n",
    "# !pip install pyLDAvis\n",
    "# !pip install xlsxwriter\n",
    "# !pip install nltk\n",
    "# !pip install numpy"
   ]
  },
  {
   "cell_type": "code",
   "execution_count": 1,
   "id": "47d152df",
   "metadata": {},
   "outputs": [],
   "source": [
    "import re\n",
    "import json\n",
    "import pandas as pd\n",
    "import xlsxwriter\n",
    "import numpy as np"
   ]
  },
  {
   "cell_type": "markdown",
   "id": "b8b3453c",
   "metadata": {},
   "source": [
    "### 네이버 블로그 데이터 불러오기"
   ]
  },
  {
   "cell_type": "code",
   "execution_count": 2,
   "id": "45bab5ba",
   "metadata": {},
   "outputs": [],
   "source": [
    "blog_df = pd.read_csv('data/skm_blog.csv', encoding='utf-8-sig') # 네이버 블로그 csv파일 불러오기"
   ]
  },
  {
   "cell_type": "code",
   "execution_count": 3,
   "id": "6b39441e",
   "metadata": {},
   "outputs": [],
   "source": [
    "blog_df = blog_df.sort_values(by='Post Date' ,ascending=True) # post Date를 기준으로 오름차순으로 정렬\n",
    "blog_df['Post Date'] = [str(dates).replace('.0','') for dates in blog_df['Post Date']] # 분석을 위해서 날짜의 형식을 변경함. "
   ]
  },
  {
   "cell_type": "code",
   "execution_count": 4,
   "id": "e0a0e981",
   "metadata": {},
   "outputs": [
    {
     "name": "stdout",
     "output_type": "stream",
     "text": [
      "[362] \n",
      "\n",
      "(559, 7)\n"
     ]
    }
   ],
   "source": [
    "# 문서에 'Post Date'에서 빈칸을 nan (빈데이터)를 찾아주고 삭제해주는 과정 = 나중에 분석에 오류를 없애기 위해서\n",
    "drop_index = blog_df['Post Date'][blog_df['Post Date']=='nan'].index\n",
    "d = [d for d in drop_index] \n",
    "print(d, '\\n') # 아래 결과 예) 751 번째 행의 날짜가 nan으로 표시 되어있음을 알 수 있음. \n",
    "\n",
    "blog_df.drop(d, axis=0, inplace=True) # nan 데이터가 있는 행을 삭제해줌.\n",
    "print(blog_df.shape)"
   ]
  },
  {
   "cell_type": "code",
   "execution_count": 5,
   "id": "8dcbb273",
   "metadata": {},
   "outputs": [
    {
     "data": {
      "text/plain": [
       "292    [차트뉴스] SK매직, 식기세척기 시장 만년 1위 오죽하면 빨래건조기, 로봇 청소기...\n",
       "521    동양매직에서 SK매직으로 이름이 바뀐 슈퍼 공기청정기...  동양매직에서 SK매직으...\n",
       "96     SK매직 무선청소기 VCL-D200 개봉기 및 사용기 SK매직 무선청소기 VCL-D...\n",
       "534    내돈주고 사서쓰는 유선진공청소기 SK매직 VCL-613 아기가 생긴 뒤로 내 머리카...\n",
       "274    소형가전(무선청소기... ZB3233B /SK매직 EON-30AMD 다른 청소기를 ...\n",
       "                             ...                        \n",
       "103    삼성비스포크 렌탈 케어 SK매직 스페셜 렌탈 서비스 받은 후기! SK매직 렌탈서비스...\n",
       "164    SK 매직 공기청정기 제로웨이스트 친환경가전 제대로네 공기청정기네요 SK매직 그린컬...\n",
       "25     예쁜가전 SK매직 올클린 공기청정기로 집안공기까지 예쁘게~ 바로 예쁜가전 SK매직 ...\n",
       "21     우리집 미세먼지는 SK매직 올클린 공기청정기 Green 242 환경까지 고려한 친환...\n",
       "19     SK매직 공기청정기 Green 242 필수가전 인것 같아요 인 SK매직 올클린 공기...\n",
       "Length: 559, dtype: object"
      ]
     },
     "execution_count": 5,
     "metadata": {},
     "output_type": "execute_result"
    }
   ],
   "source": [
    "# 필요한 부분만 편집해서 가져오기. \n",
    "# 블로그 데이터 파일에서 블로그 제목인 'Title'과 블로그 내용인 'Description' 및 게시일인 'Post Date'에 해당하는 부분만 가져와 저장.\n",
    "tm_post = blog_df.get('Title') + \" \" + blog_df.get('Description')\n",
    "tm_post_date = blog_df.get('Post Date')\n",
    "\n",
    "tm_post"
   ]
  },
  {
   "cell_type": "code",
   "execution_count": 8,
   "id": "c6c7bacf",
   "metadata": {},
   "outputs": [
    {
     "data": {
      "text/plain": [
       "0      가스렌지 접지가 잘 되지 않아 1년에 한번씩은 수리를 받았어요작년에도 3만원 넘게 ...\n",
       "1      직접 기존 고장난 제품을 제거하고 호스 끝을 가위로 잘라내고.. SK 매직 제품으로...\n",
       "2      기존 스텐레스쿡탑 썼는데 아랫부분이 부식되서 녹가루 떨어져서 폭풍검색후 린나이. s...\n",
       "3      여기저기 후기를 찾아보고 일주일 고민 끝에 주문했어요. 갑자기 사용하던 가스레인지가...\n",
       "4      가스렌지 옛날거라 스마트센서도 없고 가스손잡이도 한참 잡고있어야 갑자기 불들어오고 ...\n",
       "                             ...                        \n",
       "995                              조아요 조아요 조아요 조아요 조아요 조아요\n",
       "996    이거 좋네요. 기존 한샘꺼 썼는데 사이즈도 딱 맞고 불도 잘 켜지고 약불모드 기발한...\n",
       "997      딱 맞았습니다. 감사합니다. 번창하세요.. 딱 맞았습니다. 감사합니다. 번창하세요..\n",
       "998    가성비 좋고 배송기사도 친절하게 설치해 주시네요.. 가성비 좋고 배송기사도 친절하게...\n",
       "999    배송도 빠르고 설치 가사님 도친절 하셨습니다 배송도 빠르고 설치 가사님 도친절 하셨습니다\n",
       "Length: 1000, dtype: object"
      ]
     },
     "execution_count": 8,
     "metadata": {},
     "output_type": "execute_result"
    }
   ],
   "source": [
    "# 필요한 부분만 편집해서 가져오기. \n",
    "# 블로그 데이터 파일에서 블로그 제목인 'title'과 블로그 내용인 'review' 및 게시일인 'date'에 해당하는 부분만 가져와 저장.\n",
    "tm_post = shop_df.get('title') + \" \" + shop_df.get('review')\n",
    "tm_post_date = shop_df.get('date')\n",
    "\n",
    "tm_post"
   ]
  },
  {
   "cell_type": "code",
   "execution_count": 6,
   "id": "69176d1c",
   "metadata": {},
   "outputs": [
    {
     "data": {
      "text/plain": [
       "292    [차트뉴스] SK매직, 식기세척기 시장 만년 1위 오죽하면 빨래건조기, 로봇 청소기...\n",
       "521    동양매직에서 SK매직으로 이름이 바뀐 슈퍼 공기청정기...  동양매직에서 SK매직으...\n",
       "96     SK매직 무선청소기 VCL-D200 개봉기 및 사용기 SK매직 무선청소기 VCL-D...\n",
       "534    내돈주고 사서쓰는 유선진공청소기 SK매직 VCL-613 아기가 생긴 뒤로 내 머리카...\n",
       "274    소형가전(무선청소기... ZB3233B /SK매직 EON-30AMD 다른 청소기를 ...\n",
       "dtype: object"
      ]
     },
     "execution_count": 6,
     "metadata": {},
     "output_type": "execute_result"
    }
   ],
   "source": [
    "tm_post.head()  # 첫 5행 보여주기"
   ]
  },
  {
   "cell_type": "code",
   "execution_count": 7,
   "id": "ca873248",
   "metadata": {},
   "outputs": [
    {
     "data": {
      "text/plain": [
       "103    삼성비스포크 렌탈 케어 SK매직 스페셜 렌탈 서비스 받은 후기! SK매직 렌탈서비스...\n",
       "164    SK 매직 공기청정기 제로웨이스트 친환경가전 제대로네 공기청정기네요 SK매직 그린컬...\n",
       "25     예쁜가전 SK매직 올클린 공기청정기로 집안공기까지 예쁘게~ 바로 예쁜가전 SK매직 ...\n",
       "21     우리집 미세먼지는 SK매직 올클린 공기청정기 Green 242 환경까지 고려한 친환...\n",
       "19     SK매직 공기청정기 Green 242 필수가전 인것 같아요 인 SK매직 올클린 공기...\n",
       "dtype: object"
      ]
     },
     "execution_count": 7,
     "metadata": {},
     "output_type": "execute_result"
    }
   ],
   "source": [
    "tm_post.tail()  # 마지막 5행 보여주기"
   ]
  },
  {
   "cell_type": "code",
   "execution_count": 9,
   "id": "93e3effa",
   "metadata": {},
   "outputs": [
    {
     "data": {
      "text/plain": [
       "'20211101'"
      ]
     },
     "execution_count": 9,
     "metadata": {},
     "output_type": "execute_result"
    }
   ],
   "source": [
    "tm_post_date.max()   # 최대 날짜 (가장 최근 데이터)"
   ]
  },
  {
   "cell_type": "code",
   "execution_count": 10,
   "id": "d26f0392",
   "metadata": {},
   "outputs": [
    {
     "data": {
      "text/plain": [
       "'20161202'"
      ]
     },
     "execution_count": 10,
     "metadata": {},
     "output_type": "execute_result"
    }
   ],
   "source": [
    "tm_post_date.min()  # 최소 날짜 (가장 오래된 데이터)"
   ]
  },
  {
   "cell_type": "code",
   "execution_count": 11,
   "id": "c35109ec",
   "metadata": {},
   "outputs": [
    {
     "name": "stdout",
     "output_type": "stream",
     "text": [
      "False\n",
      "0\n"
     ]
    }
   ],
   "source": [
    "# tm_post 전처리\n",
    "\n",
    "print(tm_post.isnull().values.any()) # 빈 행이 있는지 확인하기 ( 뒤에 에러가 날 수 있음 ) \n",
    "print(tm_post.isnull().sum()) # null 값이 총 몇개가 있는지 확인 \n",
    "\n",
    "tm_post = tm_post.dropna(how = 'any') # Null 값이 존재하는 행을 제거"
   ]
  },
  {
   "cell_type": "code",
   "execution_count": 12,
   "id": "3567d667",
   "metadata": {},
   "outputs": [
    {
     "data": {
      "text/plain": [
       "559"
      ]
     },
     "execution_count": 12,
     "metadata": {},
     "output_type": "execute_result"
    }
   ],
   "source": [
    "len(tm_post)"
   ]
  },
  {
   "cell_type": "code",
   "execution_count": 17,
   "id": "a9b9ada3",
   "metadata": {},
   "outputs": [],
   "source": [
    "import re\n",
    "\n",
    "def cleanText(datas): # 단어 전처리\n",
    "    data1 = re.sub('[^A-Za-z0-9가-힣;,.?!]', ' ', datas)\n",
    "    data1 = data1.replace(' 청소기', ' 청소기 ') #검색어 띄어쓰기 붙여주기\n",
    "    data1 = data1.replace('청소기 ', ' 청소기 ') #검색어 띄어쓰기 붙여주기\n",
    "    data1 = data1.replace('  ', ' ')\n",
    "    #data1 = data1.replace('매직', 'SK매직')\n",
    "    data2 = data1.split()\n",
    "    return data1"
   ]
  },
  {
   "cell_type": "code",
   "execution_count": 18,
   "id": "c65c55f5",
   "metadata": {},
   "outputs": [
    {
     "data": {
      "text/plain": [
       "[' 차트뉴스 SK매직, 식기세척기 시장 만년 1위 오죽하면 빨래건조기, 로봇 청소기 와 함께 신의 물건인 가전 3신기 로 꼽히겠는가. 물론... 나누면 SK매직이 절반 이상의 점유율을 차지하며 1위 자리를 굳게 지키고 있음을 확인할 수 있다. SK매직은... ',\n",
       " '동양매직에서 SK매직으로 이름이 바뀐 슈퍼 공기청정기... 동양매직에서 SK매직으로 이름이 바뀐 슈퍼 공기청정기 렌탈해서 사용하고 있어요. 안녕하세요.... 저희는 침구 청소기 받아서 사용하는데요. 엄청 좋더군요. 침구 청소 한번 하고 나면 청소기 에 먼지가 들어가... ',\n",
       " 'SK매직 무선 청소기 VCL D200 개봉기 및 사용기 SK매직 무선 청소기 VCL D200 지금까지 유선청소기만 써 오다, 첫 무선 청소기 구입! 알아보고 알아보다 가성비 따져서 VCL D200을 구매하였습니다. 첫 무선 청소기 구입 기념으로 정성가득 포스팅을 해봅니다. 무선... ']"
      ]
     },
     "execution_count": 18,
     "metadata": {},
     "output_type": "execute_result"
    }
   ],
   "source": [
    "tm_posts = []\n",
    "for posts in tm_post:\n",
    "    post = cleanText(posts)\n",
    "    post1 = ' '.join(post)\n",
    "    tm_posts.append(post)\n",
    "    \n",
    "tm_posts[:3]"
   ]
  },
  {
   "cell_type": "code",
   "execution_count": 19,
   "id": "3eb5a93a",
   "metadata": {},
   "outputs": [],
   "source": [
    "# 형태소 분석기 Mecab 불러오기\n",
    "\n",
    "from konlpy.tag import Mecab\n",
    "\n",
    "tagger = Mecab(dicpath='C:/mecab/mecab-ko-dic')"
   ]
  },
  {
   "cell_type": "code",
   "execution_count": 23,
   "id": "4b00abf3",
   "metadata": {},
   "outputs": [
    {
     "name": "stdout",
     "output_type": "stream",
     "text": [
      "['게', '점', '자', '수', '후', '저', '쪽', '음', '은', '는', '위', '이', '가', '배', '거', '츠', '의', '앞', '강', '글', '애', '미', '번', '것', '등', '더', '를', '좀', '즉', '인', '옹', '때', '만', '원', '이때', '개', '일', '기', '시', '트', '드', '기', '탭']\n"
     ]
    }
   ],
   "source": [
    "# 각자 데이터에 맞는 불용어를 추가하여 불용어 처리.\n",
    "tm_stop_words = \"게 점 자 수 후 저 쪽 음 은 는 위 이 가 배 거 츠 의 앞 강 글 애 미 번 것 등 더 를 좀 즉 인 옹 때 만 원 이때 개 일 기 시 트 드 기 탭\"\n",
    "tm_stop_words = tm_stop_words.split(' ')\n",
    "print(tm_stop_words)"
   ]
  },
  {
   "cell_type": "code",
   "execution_count": 24,
   "id": "6950867f",
   "metadata": {},
   "outputs": [
    {
     "data": {
      "text/plain": [
       "[('차트', 'NNG'),\n",
       " ('뉴스', 'NNG'),\n",
       " ('SK', 'SL'),\n",
       " ('매직', 'NNG'),\n",
       " (',', 'SC'),\n",
       " ('식기세척기', 'NNG'),\n",
       " ('시장', 'NNG'),\n",
       " ('만년', 'NNG'),\n",
       " ('1', 'SN'),\n",
       " ('위', 'NNBC')]"
      ]
     },
     "execution_count": 24,
     "metadata": {},
     "output_type": "execute_result"
    }
   ],
   "source": [
    "# 불용어를 제외한 텍스트의 형태소 분석 수행\n",
    "\n",
    "words = []\n",
    "for post in tm_posts:\n",
    "    words.extend(tagger.pos(post))\n",
    "    \n",
    "words[0:10]"
   ]
  },
  {
   "cell_type": "code",
   "execution_count": 25,
   "id": "5b29636e",
   "metadata": {},
   "outputs": [
    {
     "data": {
      "text/plain": [
       "['차트', '뉴스', '매직', '식기세척기', '시장', '만년', '빨래', '건조기', '로봇', '청소기']"
      ]
     },
     "execution_count": 25,
     "metadata": {},
     "output_type": "execute_result"
    }
   ],
   "source": [
    "tm_nouns = []   # 명사 추출하기\n",
    "for post in tm_posts:\n",
    "        if type(post) == str:\n",
    "            for noun in tagger.nouns(post):\n",
    "                if noun not in tm_stop_words:\n",
    "                    tm_nouns.append(noun)\n",
    "            \n",
    "tm_nouns[0:10]"
   ]
  },
  {
   "cell_type": "code",
   "execution_count": null,
   "id": "723b04a0",
   "metadata": {},
   "outputs": [],
   "source": []
  },
  {
   "cell_type": "markdown",
   "id": "9ee5b630",
   "metadata": {},
   "source": [
    "# 감성 분석(Sentiment Analysis)\n",
    "\n"
   ]
  },
  {
   "cell_type": "markdown",
   "id": "3842e989",
   "metadata": {},
   "source": [
    "## 한국어 감정분석"
   ]
  },
  {
   "cell_type": "code",
   "execution_count": 26,
   "id": "cec76192",
   "metadata": {},
   "outputs": [],
   "source": [
    "def data_list(wordname):\n",
    "\n",
    "    with open('./data/SentiWord_info.json', encoding='utf-8-sig', mode='r') as f:\n",
    "\n",
    "        data = json.load(f)\n",
    "    result = ['None','3']\n",
    "\n",
    "    for i in range(0, len(data)):\n",
    "        if data[i]['word'] == wordname:\n",
    "            result.pop()\n",
    "            result.pop()\n",
    "            result.append(data[i]['word_root'])\n",
    "            result.append(data[i]['polarity'])\n",
    "\n",
    "    r_word = result[0]\n",
    "    s_word = result[1]\n",
    "\n",
    "    return [r_word, s_word]\n",
    "\n",
    "#     print(\"-2:매우 부정, -1:부정, 0:중립 or Unkwon, 1:긍정, 2:매우 긍정\")"
   ]
  },
  {
   "cell_type": "code",
   "execution_count": 27,
   "id": "979cde6e",
   "metadata": {},
   "outputs": [
    {
     "data": {
      "text/plain": [
       "['차트 뉴스 SK 매직 , 식기세척기 시장 만년 1 오죽 하 면 빨래 건조기 , 로봇 청소기 와 함께 신 물건 가전 3 신기 로 꼽히 겠 는가 . 물론 . .. 나누 면 SK 매직 절반 이상 점유 율 을 차지 하 며 1 자리 굳 지키 고 있 을 확인 할 있 다 . SK 매직 . ..',\n",
       " '동양 매직 에서 SK 매직 으로 이름 바뀐 슈퍼 공기 청정기 . .. 동양 매직 에서 SK 매직 으로 이름 바뀐 슈퍼 공기 청정기 렌탈 해서 사용 하 고 있 어요 . 안녕 하 세요 . ... 저희 침구 청소기 받 아서 사용 하 는데요 . 엄청 좋 더군요 . 침구 청소 한번 하 고 나 면 청소기 에 먼지 들어가 . ..',\n",
       " 'SK 매직 무선 청소기 VCL D 200 봉기 및 사용 SK 매직 무선 청소기 VCL D 200 지금 까지 유선 청소기 써 오 다 , 첫 무선 청소기 구입 ! 알아보 고 알아보 다 성비 따져서 VCL D 200 을 구매 하 였 습니다 . 첫 무선 청소기 구입 기념 으로 정성 가득 포스팅 을 해 봅니다 . 무선 . ..']"
      ]
     },
     "execution_count": 27,
     "metadata": {},
     "output_type": "execute_result"
    }
   ],
   "source": [
    "tm_morphs = [] \n",
    "for post in tm_posts:\n",
    "    posts = []\n",
    "    if type(post) == str:\n",
    "        for morphs in tagger.morphs(post):\n",
    "            if morphs not in tm_stop_words:\n",
    "                posts.append(morphs)\n",
    "    posts = ' '.join(posts)\n",
    "    tm_morphs.append(posts)\n",
    "\n",
    "tm_morphs[0:3]"
   ]
  },
  {
   "cell_type": "code",
   "execution_count": 28,
   "id": "a05ac726",
   "metadata": {},
   "outputs": [
    {
     "name": "stderr",
     "output_type": "stream",
     "text": [
      "100%|████████████████████████████████████████████████████████████████████████████████| 559/559 [28:08<00:00,  3.02s/it]\n"
     ]
    }
   ],
   "source": [
    "import json\n",
    "from tqdm import tqdm\n",
    "\n",
    "sentiment_firm=[]\n",
    "\n",
    "for tm_words in tqdm(tm_morphs):\n",
    "    sentiment_firm_line = []\n",
    "    sentiment = 0\n",
    "    count = 0\n",
    "    \n",
    "    for i in range(len(tm_words)):\n",
    "        emotion_an = data_list(tm_words[i])\n",
    "        if emotion_an[1] == '3':\n",
    "            pass\n",
    "        else:\n",
    "            sentiment += int(emotion_an[1])\n",
    "            count += 1\n",
    "    try:\n",
    "        sentiment_firm.append(sentiment/count)\n",
    "    except:\n",
    "        sentiment_firm.append(0)"
   ]
  },
  {
   "cell_type": "code",
   "execution_count": 29,
   "id": "81a08edd",
   "metadata": {},
   "outputs": [
    {
     "data": {
      "text/html": [
       "<div>\n",
       "<style scoped>\n",
       "    .dataframe tbody tr th:only-of-type {\n",
       "        vertical-align: middle;\n",
       "    }\n",
       "\n",
       "    .dataframe tbody tr th {\n",
       "        vertical-align: top;\n",
       "    }\n",
       "\n",
       "    .dataframe thead th {\n",
       "        text-align: right;\n",
       "    }\n",
       "</style>\n",
       "<table border=\"1\" class=\"dataframe\">\n",
       "  <thead>\n",
       "    <tr style=\"text-align: right;\">\n",
       "      <th></th>\n",
       "      <th>0</th>\n",
       "    </tr>\n",
       "  </thead>\n",
       "  <tbody>\n",
       "    <tr>\n",
       "      <th>0</th>\n",
       "      <td>0.000000</td>\n",
       "    </tr>\n",
       "    <tr>\n",
       "      <th>1</th>\n",
       "      <td>-0.250000</td>\n",
       "    </tr>\n",
       "    <tr>\n",
       "      <th>2</th>\n",
       "      <td>-0.250000</td>\n",
       "    </tr>\n",
       "    <tr>\n",
       "      <th>3</th>\n",
       "      <td>-2.000000</td>\n",
       "    </tr>\n",
       "    <tr>\n",
       "      <th>4</th>\n",
       "      <td>-0.500000</td>\n",
       "    </tr>\n",
       "    <tr>\n",
       "      <th>...</th>\n",
       "      <td>...</td>\n",
       "    </tr>\n",
       "    <tr>\n",
       "      <th>554</th>\n",
       "      <td>-0.333333</td>\n",
       "    </tr>\n",
       "    <tr>\n",
       "      <th>555</th>\n",
       "      <td>1.000000</td>\n",
       "    </tr>\n",
       "    <tr>\n",
       "      <th>556</th>\n",
       "      <td>1.333333</td>\n",
       "    </tr>\n",
       "    <tr>\n",
       "      <th>557</th>\n",
       "      <td>-0.800000</td>\n",
       "    </tr>\n",
       "    <tr>\n",
       "      <th>558</th>\n",
       "      <td>0.000000</td>\n",
       "    </tr>\n",
       "  </tbody>\n",
       "</table>\n",
       "<p>559 rows × 1 columns</p>\n",
       "</div>"
      ],
      "text/plain": [
       "            0\n",
       "0    0.000000\n",
       "1   -0.250000\n",
       "2   -0.250000\n",
       "3   -2.000000\n",
       "4   -0.500000\n",
       "..        ...\n",
       "554 -0.333333\n",
       "555  1.000000\n",
       "556  1.333333\n",
       "557 -0.800000\n",
       "558  0.000000\n",
       "\n",
       "[559 rows x 1 columns]"
      ]
     },
     "execution_count": 29,
     "metadata": {},
     "output_type": "execute_result"
    }
   ],
   "source": [
    "kor_sent=pd.DataFrame(sentiment_firm)\n",
    "\n",
    "kor_sent"
   ]
  },
  {
   "cell_type": "code",
   "execution_count": null,
   "id": "ac9e4994",
   "metadata": {},
   "outputs": [],
   "source": [
    "# # 감성분석한 쇼핑후기 데이터 xlsx로 저장하기\n",
    "# kor_sentiment = pd.ExcelWriter('./data/skm_shopping_sentiment.xlsx', engine='xlsxwriter')\n",
    "# kor_sent.to_excel(kor_sentiment, sheet_name='Sheet1')\n",
    "# kor_sentiment.close()"
   ]
  },
  {
   "cell_type": "code",
   "execution_count": 30,
   "id": "aadd15f0",
   "metadata": {},
   "outputs": [],
   "source": [
    "# 감성분석한 블로그 데이터 xlsx로 저장하기\n",
    "kor_sentiment = pd.ExcelWriter('./data/skm_blog_sentiment.xlsx', engine='xlsxwriter')\n",
    "kor_sent.to_excel(kor_sentiment, sheet_name='Sheet1')\n",
    "kor_sentiment.close()"
   ]
  },
  {
   "cell_type": "code",
   "execution_count": null,
   "id": "aed361ff",
   "metadata": {},
   "outputs": [],
   "source": []
  }
 ],
 "metadata": {
  "kernelspec": {
   "display_name": "Python 3 (ipykernel)",
   "language": "python",
   "name": "python3"
  },
  "language_info": {
   "codemirror_mode": {
    "name": "ipython",
    "version": 3
   },
   "file_extension": ".py",
   "mimetype": "text/x-python",
   "name": "python",
   "nbconvert_exporter": "python",
   "pygments_lexer": "ipython3",
   "version": "3.9.12"
  }
 },
 "nbformat": 4,
 "nbformat_minor": 5
}
